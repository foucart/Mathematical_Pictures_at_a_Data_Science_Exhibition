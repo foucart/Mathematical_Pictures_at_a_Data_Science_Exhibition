{
 "cells": [
  {
   "cell_type": "markdown",
   "metadata": {},
   "source": [
    "# Computational Illustration for Chapter 15\n",
    "# The Complexity of Sparse Recovery"
   ]
  },
  {
   "cell_type": "code",
   "execution_count": 1,
   "metadata": {},
   "outputs": [],
   "source": [
    "import numpy as np\n",
    "from numpy import linalg as LA\n",
    "from scipy import linalg\n",
    "from scipy.optimize import linprog"
   ]
  },
  {
   "cell_type": "code",
   "execution_count": 2,
   "metadata": {},
   "outputs": [],
   "source": [
    "## generate a s-sparse vector and its first 2s Fourier observations\n",
    "# select problem sizes\n",
    "N = 500\n",
    "s = 10\n",
    "m = 2*s\n",
    "# create the sparse vector x to be recovered\n",
    "x = np.zeros(N)\n",
    "aux = np.random.permutation(N)\n",
    "supp_ori = aux[:s]\n",
    "supp_ori.sort()\n",
    "x[supp_ori] = np.random.normal(0,1,s)\n",
    "# produce the observation vector y made of 2s Fourier coefficients \n",
    "xhat = np.fft.fft(x)\n",
    "y_exact = xhat[:m]\n",
    "# as well as a noisy version\n",
    "noise = 1e-5*np.random.normal(0,1,m)\n",
    "y_noisy = y_exact+noise"
   ]
  },
  {
   "cell_type": "markdown",
   "metadata": {},
   "source": [
    "## Sparse recovery via Prony's method seems to be successful..."
   ]
  },
  {
   "cell_type": "code",
   "execution_count": 3,
   "metadata": {},
   "outputs": [
    {
     "name": "stdout",
     "output_type": "stream",
     "text": [
      "In the exact case, the original and recovered supports agree:\n",
      "[  6  44  61  77  95 219 266 282 294 372]\n",
      "[  6  44  61  77  95 219 266 282 294 372]\n"
     ]
    }
   ],
   "source": [
    "phat = np.zeros(N, dtype=np.cfloat)\n",
    "phat[0] = 1\n",
    "M = linalg.toeplitz(y_exact[s-1:2*s-1], y_exact[s-1::-1])\n",
    "phat[1:s+1] = -linalg.solve(M,y_exact[s:2*s])\n",
    "p = np.fft.ifft(phat)\n",
    "idx = np.argsort(abs(p))\n",
    "supp_exact = idx[0:s]\n",
    "supp_exact.sort()\n",
    "print('In the exact case, the original and recovered supports agree:')\n",
    "print(supp_ori)\n",
    "print(supp_exact)"
   ]
  },
  {
   "cell_type": "markdown",
   "metadata": {},
   "source": [
    "## But it is not robust to observation errors with only m=2s"
   ]
  },
  {
   "cell_type": "code",
   "execution_count": 4,
   "metadata": {},
   "outputs": [
    {
     "name": "stdout",
     "output_type": "stream",
     "text": [
      "In the noisy case, the original and recovered supports do not agree anymore:\n",
      "[  6  44  61  77  95 219 266 282 294 372]\n",
      "[  6  44  62  77  95 219 266 282 294 372]\n"
     ]
    }
   ],
   "source": [
    "phat = np.zeros(N, dtype=np.cfloat)\n",
    "phat[0] = 1\n",
    "M = linalg.toeplitz(y_noisy[s-1:2*s-1], y_noisy[s-1::-1])\n",
    "phat[1:s+1] = -linalg.solve(M,y_noisy[s:2*s])\n",
    "p = np.fft.ifft(phat)\n",
    "idx = np.argsort(abs(p))\n",
    "supp_noisy = idx[0:s]\n",
    "supp_noisy.sort()\n",
    "print('In the noisy case, the original and recovered supports do not agree anymore:')\n",
    "print(supp_ori)\n",
    "print(supp_noisy)"
   ]
  },
  {
   "cell_type": "code",
   "execution_count": 5,
   "metadata": {},
   "outputs": [
    {
     "name": "stdout",
     "output_type": "stream",
     "text": [
      "Recovery from exact observations is quite successful: relative L2-error = 3.2685480453828115e-13.\n",
      "Recovery from inexact observations is not successful: relative L2-error = 0.25916335609447555.\n"
     ]
    }
   ],
   "source": [
    "## The outputted vectors do not agree either\n",
    "F = linalg.dft(N)    # the full discrete Fourier matrix\n",
    "A = F[:2*s,:]        # the submatrix for the first 2s Fourier coefficients\n",
    "x_exact = np.zeros(N, dtype=np.cfloat)\n",
    "x_exact[supp_exact] = linalg.solve(A[:s,supp_exact],y_exact[:s])\n",
    "rel_error_exact = LA.norm(x-x_exact)/LA.norm(x)\n",
    "x_noisy = np.zeros(N, dtype=np.cfloat)\n",
    "x_noisy[supp_noisy] = linalg.solve(A[:s,supp_noisy],y_noisy[:s])\n",
    "rel_error_noisy = LA.norm(x-x_noisy)/LA.norm(x)\n",
    "print('Recovery from exact observations is quite successful: relative L2-error = {}.'.format(rel_error_exact))\n",
    "print('Recovery from inexact observations is not successful: relative L2-error = {}.'.format(rel_error_noisy))"
   ]
  },
  {
   "cell_type": "markdown",
   "metadata": {},
   "source": [
    "## In contrast, recovery via L1-minimization is stable (with more observations, of course)"
   ]
  },
  {
   "cell_type": "code",
   "execution_count": 7,
   "metadata": {},
   "outputs": [
    {
     "name": "stdout",
     "output_type": "stream",
     "text": [
      "Recovery from exact observations is quite successful: relative L2-error = 1.154916540329676e-10.\n",
      "Recovery from inexact observations is not bad either: relative L2-error = 3.2852828248803705e-05.\n"
     ]
    }
   ],
   "source": [
    "m = 4*s\n",
    "A = F[:m,:] \n",
    "y_exact = A@x\n",
    "y_noisy = y_exact+1e-5*np.random.normal(0,1,m)\n",
    "obj= np.ones(2*N)\n",
    "lhs_eq = np.append(np.append(A.real, -A.real, axis=1), np.append(A.imag, -A.imag, axis=1), axis=0)\n",
    "rhs_eq_exact = np.append(y_exact.real, y_exact.imag, axis=0)\n",
    "rhs_eq_noisy = np.append(y_noisy.real, y_noisy.imag, axis=0)\n",
    "bnd = [(0, np.inf) for _ in range(2*N)]\n",
    "opt_exact = linprog(c=obj, A_eq=lhs_eq, b_eq=rhs_eq_exact, bounds=bnd, method=\"interior-point\")\n",
    "xstar_exact = opt_exact.x[:N]-opt_exact.x[N:]\n",
    "rel_error_exact = LA.norm(x-xstar_exact)/LA.norm(x)   \n",
    "opt_noisy = linprog(c=obj, A_eq=lhs_eq, b_eq=rhs_eq_noisy, bounds=bnd, method=\"interior-point\")\n",
    "xstar_noisy = opt_noisy.x[:N]-opt_noisy.x[N:]\n",
    "rel_error_noisy = LA.norm(x-xstar_noisy)/LA.norm(x)    \n",
    "print('Recovery from exact observations is quite successful: relative L2-error = {}.'.format(rel_error_exact))\n",
    "print('Recovery from inexact observations is not bad either: relative L2-error = {}.'.format(rel_error_noisy))"
   ]
  }
 ],
 "metadata": {
  "kernelspec": {
   "display_name": "Python 3",
   "language": "python",
   "name": "python3"
  },
  "language_info": {
   "codemirror_mode": {
    "name": "ipython",
    "version": 3
   },
   "file_extension": ".py",
   "mimetype": "text/x-python",
   "name": "python",
   "nbconvert_exporter": "python",
   "pygments_lexer": "ipython3",
   "version": "3.7.3"
  }
 },
 "nbformat": 4,
 "nbformat_minor": 2
}
