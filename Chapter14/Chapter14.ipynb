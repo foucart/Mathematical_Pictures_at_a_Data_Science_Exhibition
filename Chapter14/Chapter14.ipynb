{
 "cells": [
  {
   "cell_type": "markdown",
   "metadata": {},
   "source": [
    "#  Computational Illustration for Chapter 14\n",
    "# Sparse Recovery from Linear Observations"
   ]
  },
  {
   "cell_type": "code",
   "execution_count": 1,
   "metadata": {},
   "outputs": [],
   "source": [
    "import numpy as np\n",
    "from numpy import linalg as LA\n",
    "import matplotlib.pyplot as plt\n",
    "from scipy.optimize import linprog\n",
    "import warnings\n",
    "warnings.filterwarnings('ignore')"
   ]
  },
  {
   "cell_type": "markdown",
   "metadata": {},
   "source": [
    "## Illustration of the success of L1-minimization"
   ]
  },
  {
   "cell_type": "code",
   "execution_count": 2,
   "metadata": {},
   "outputs": [],
   "source": [
    "## generate a sparse vector and the corresponding observation vector\n",
    "# select problem sizes\n",
    "N = 800\n",
    "m = 200\n",
    "s = 40\n",
    "# create the sparse vector x to be recovered\n",
    "x = np.zeros(N)\n",
    "aux = np.random.permutation(N)\n",
    "supp = aux[:s]\n",
    "supp.sort()\n",
    "x[supp] = np.random.normal(0,1,s)\n",
    "# produce the observation vector y\n",
    "A = np.sqrt(np.pi/2/m)*np.random.normal(0,1,size=(m,N))\n",
    "y = A@x"
   ]
  },
  {
   "cell_type": "markdown",
   "metadata": {},
   "source": [
    "The $\\ell_1$-minimization program is solved in two different ways:\n",
    "fisrt, by solving the linear program\n",
    "$$\n",
    "\\underset{z,c\\in\\mathbb{R}^N}{\\rm minimize} \\sum_{j=1}^N c_j  \\qquad \\mbox{subject to } Az = y, \\; -c \\leq z \\leq c;\n",
    "$$\n",
    "second, by solving the linear program\n",
    "$$\n",
    "\\underset{z^+,z^-\\in\\mathbb{R}^N}{\\rm minimize} \\sum_{j=1}^N (z^+_j + z^-_j)\n",
    "\\qquad \\mbox{subject to } A(z^+-z^-) = y, \\; z^+ \\ge 0, \\; z^- \\ge 0.\n",
    "$$"
   ]
  },
  {
   "cell_type": "code",
   "execution_count": 3,
   "metadata": {},
   "outputs": [
    {
     "name": "stdout",
     "output_type": "stream",
     "text": [
      "Recovery considered to be exact,\n",
      "with a relative L2-error of 3.28955901375788e-09.\n"
     ]
    }
   ],
   "source": [
    "# For the first linear program:\n",
    "# define the objective (the variable is the 2N-dim vector [z;c])\n",
    "obj_1 = np.append(np.zeros(N), np.ones(N), axis=0)\n",
    "# define the equality constraint\n",
    "lhs_eq = np.append(A, np.zeros((m,N)), axis=1)\n",
    "rhs_eq = y\n",
    "# define the inequality constraint\n",
    "I = np.identity(N)\n",
    "lhs_ineq = np.append( np.append(-I, -I, axis=1), np.append(I, -I, axis=1), axis=0 )\n",
    "rhs_ineq = np.zeros(2*N)\n",
    "# perform the optimization\n",
    "opt1 = linprog(c=obj_1, A_ub=lhs_ineq, b_ub=rhs_ineq, A_eq=lhs_eq, b_eq=rhs_eq, bounds=(None,None), method=\"interior-point\")\n",
    "x1 = opt1.x[:N]\n",
    "rel_error1 = LA.norm(x-x1)/LA.norm(x)\n",
    "print(\"Recovery considered to be {},\".format(\"exact\" if rel_error1<1e-5 else \"inexact\"))\n",
    "print(\"with a relative L2-error of {}.\".format(rel_error1))"
   ]
  },
  {
   "cell_type": "code",
   "execution_count": 4,
   "metadata": {},
   "outputs": [
    {
     "name": "stdout",
     "output_type": "stream",
     "text": [
      "Recovery considered to be exact,\n",
      "with a relative L2-error of 4.438473753613236e-12.\n"
     ]
    }
   ],
   "source": [
    "# For the second linear program:\n",
    "# define the objective (the variable is the 2N-dim vector [z^+;z^-])\n",
    "obj_2 = np.ones(2*N)\n",
    "# define the equality constraint\n",
    "lhs_eq = np.append(A, -A, axis=1)\n",
    "rhs_eq = y\n",
    "# set the bounds\n",
    "bnd = [(0, np.inf) for _ in range(2*N)]\n",
    "# perform the optimization\n",
    "opt2 = linprog(c=obj_2, A_eq=lhs_eq, b_eq=rhs_eq, bounds=bnd, method=\"interior-point\")\n",
    "# the solution is z = z^+ - z^-\n",
    "x2 = opt2.x[:N]-opt2.x[N:]\n",
    "rel_error2 = LA.norm(x-x2)/LA.norm(x)\n",
    "print(\"Recovery considered to be {},\".format(\"exact\" if rel_error2<1e-5 else \"inexact\"))\n",
    "print(\"with a relative L2-error of {}.\".format(rel_error2))"
   ]
  },
  {
   "cell_type": "markdown",
   "metadata": {},
   "source": [
    "## Explore the influence of the number of measurements"
   ]
  },
  {
   "cell_type": "code",
   "execution_count": 5,
   "metadata": {
    "scrolled": true
   },
   "outputs": [
    {
     "data": {
      "image/png": "[encoded data removed]",
      "text/plain": [
       "<Figure size 432x288 with 1 Axes>"
      ]
     },
     "metadata": {
      "needs_background": "light"
     },
     "output_type": "display_data"
    }
   ],
   "source": [
    "N = 500\n",
    "s = 20\n",
    "m_min = 2*s\n",
    "m_max = 8*s\n",
    "m_inc = 10\n",
    "n_tests = 50\n",
    "res = np.zeros( (n_tests,int((m_max-m_min)/m_inc)) )\n",
    "for m in range(m_min,m_max,m_inc):\n",
    "    for t in range(n_tests):\n",
    "        xx = np.zeros(N)\n",
    "        aux = np.random.permutation(N)\n",
    "        supp = aux[:s]\n",
    "        supp.sort()\n",
    "        xx[supp] = np.random.rand(s)\n",
    "        A = np.random.rand(m,N)\n",
    "        y = A@xx\n",
    "        obj = np.ones(2*N)\n",
    "        lhs_eq = np.append(A, -A, axis=1)\n",
    "        rhs_eq = y\n",
    "        bnd = [(0, np.inf) for _ in range(2*N)]\n",
    "        opt = linprog(c=obj, A_eq=lhs_eq, b_eq=rhs_eq, bounds=bnd, method=\"interior-point\")\n",
    "        xstar = opt.x[:N]-opt.x[N:]\n",
    "        res[t,int((m-m_min)/m_inc)] = ( LA.norm(xx-xstar) < 1e-5*LA.norm(xx) )\n",
    "plt.plot(np.linspace(m_min,m_max,int((m_max-m_min)/m_inc)),100*np.mean(res,axis=0))\n",
    "plt.xlabel('Number m of observations')\n",
    "plt.ylabel('Percentage of successful recovery')\n",
    "plt.title('L1-minimization with N=' +str(N) +' and s=' +str(s))\n",
    "plt.show()"
   ]
  }
 ],
 "metadata": {
  "kernelspec": {
   "display_name": "Python 3",
   "language": "python",
   "name": "python3"
  },
  "language_info": {
   "codemirror_mode": {
    "name": "ipython",
    "version": 3
   },
   "file_extension": ".py",
   "mimetype": "text/x-python",
   "name": "python",
   "nbconvert_exporter": "python",
   "pygments_lexer": "ipython3",
   "version": "3.7.3"
  }
 },
 "nbformat": 4,
 "nbformat_minor": 4
}
