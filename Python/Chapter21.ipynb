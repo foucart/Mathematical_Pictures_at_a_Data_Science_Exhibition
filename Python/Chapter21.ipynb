{
 "cells": [
  {
   "cell_type": "markdown",
   "metadata": {},
   "source": [
    "# Chapter 21: Duality Theory and Practice"
   ]
  },
  {
   "cell_type": "code",
   "execution_count": 1,
   "metadata": {},
   "outputs": [],
   "source": [
    "import numpy as np\n",
    "from scipy import linalg as LA\n",
    "import cvxpy as cp"
   ]
  },
  {
   "cell_type": "markdown",
   "metadata": {},
   "source": [
    "## Circumscribed circle to a polytope relatively to the $\\ell_\\infty$-norm"
   ]
  },
  {
   "cell_type": "markdown",
   "metadata": {},
   "source": [
    "The smallest $\\ell_\\infty$-ball containing the polytope $\\mathcal{C} = \\{x\\in\\mathbb{R}^d:Ax\\leq b\\}$, known as Chebyshev ball, has center $c^\\star\\in\\mathbb{R}^d$ and radius $r^\\star\\in\\mathbb{R}$ solving\n",
    "\n",
    "$$ \n",
    "\\mathop{\\mathrm{minimize}}_{c\\in\\mathbb{R}^d,r\\in\\mathbb{R}} \\qquad r \\quad \\mbox{ subject to } \\|x-c\\|_\\infty \\leq r \\mbox{ for all } x\\in\\mathcal{C}. \n",
    "$$\n",
    "\n",
    "This program can be transformed into a manageable linear program if the vertices $v_1,\\dots,v_K$ of $\\mathcal{C}$ are few and computable, since the constraint reads $\\|v_k-c\\|_\\infty\\leq r$ for all $k=1,\\dots,K$. If this is not the case, the program can still be transformed into a manageable linear program using duality, as described in Example 21.4. "
   ]
  },
  {
   "cell_type": "markdown",
   "metadata": {},
   "source": [
    "For instance, when the rows of $A\\in\\mathbb{R}^{n\\times d}$ are gaussian vectors normalized to have unit norm and when the $b\\in\\mathbb{R}^n$ is the vector of all ones, the polytope $\\mathcal{C}$ becomes close to the unit euclidean ball as $n\\to\\infty$, so the Chebyshev radius should be close to (but larger than) one."
   ]
  },
  {
   "cell_type": "code",
   "execution_count": 2,
   "metadata": {},
   "outputs": [
    {
     "name": "stdout",
     "output_type": "stream",
     "text": [
      "The Chebyshev radius is 1.0347. As expected, it is somewhat close to one.\n"
     ]
    }
   ],
   "source": [
    "d = 5\n",
    "n = 5000\n",
    "A = np.random.randn(n,d)\n",
    "for i in range(n):\n",
    "    A[i,:] = A[i,:] / LA.norm(A[i,:])\n",
    "b = np.ones((n,1))\n",
    "c = cp.Variable((d,1))\n",
    "r = cp.Variable(1)\n",
    "Yp = cp.Variable((n,d),nonneg=True)\n",
    "Ym = cp.Variable((n,d),nonneg=True)\n",
    "objective = cp.Minimize(r)\n",
    "constraints = [A.T@Yp==+np.identity(d)]\n",
    "constraints+= [A.T@Ym==-np.identity(d)]\n",
    "constraints+= [Yp.T@b-c<=r]\n",
    "constraints+= [Ym.T@b+c<=r]\n",
    "circle = cp.Problem(objective,constraints)\n",
    "circle.solve(solver='ECOS')\n",
    "print('The Chebyshev radius is {:.4f}. As expected, it is somewhat close to one.'.format(r.value[0]))"
   ]
  },
  {
   "cell_type": "markdown",
   "metadata": {},
   "source": [
    "# Owl-norm minimization for sparse recovery"
   ]
  },
  {
   "cell_type": "markdown",
   "metadata": {},
   "source": [
    "In order to recover from $y=Ax\\in\\mathbb{R}^m$, $m\\ll N$ , the sparse vectors $x\\in\\mathbb{R}^N$  whose entries corresponding to identical columns of $A$ are equal (not the sparest ones), the $\\ell_1$-norm minimization can be replaced by\n",
    "\n",
    "$$ \n",
    "\\mathop{\\mathrm{minimize} \\;}_{z\\in\\mathbb{R}^N} \\|z\\|_{\\mathrm{owl}} \\quad \\mbox{subject to} \\quad Az=y. \n",
    "$$\n",
    "\n",
    "As described in Example 21.5, this optimization program can be transformed into a linear program of manageable size."
   ]
  },
  {
   "cell_type": "code",
   "execution_count": 3,
   "metadata": {},
   "outputs": [],
   "source": [
    "# Create an observation matrix whose last two columns are identical...\n",
    "N = 200\n",
    "m = 100\n",
    "A_aux = np.random.randn(m,N-1)\n",
    "A = np.column_stack((A_aux,A_aux[:,N-2]))\n",
    "# ...and a sparse vector with last two entries being equal\n",
    "x = np.zeros(N)\n",
    "s = 10\n",
    "supp_aux = np.sort(np.random.permutation(N-2)[:s-1])\n",
    "x[supp_aux] = np.random.randn(s-1)\n",
    "x[N-1] = x[N-2] = 1/2\n",
    "# produce the observation vector \n",
    "y = A@x"
   ]
  },
  {
   "cell_type": "markdown",
   "metadata": {},
   "source": [
    "Note: to make sure of outputting a sparse solution, select a solver that will run the simplex algorithm."
   ]
  },
  {
   "cell_type": "code",
   "execution_count": 4,
   "metadata": {},
   "outputs": [
    {
     "name": "stdout",
     "output_type": "stream",
     "text": [
      "Recovery by L1-norm minimization is unsuccesful: the relative L2 error is 3.66e-01.\n"
     ]
    }
   ],
   "source": [
    "# attempt to recover x from y by L1-norm minimization\n",
    "from scipy.optimize import linprog\n",
    "# the optimization variable is [xL1p;xL1m]\n",
    "c = np.hstack( (np.ones(N), np.ones(N)) )   # the vector defining the objective function\n",
    "A_eq = np.column_stack( (A,-A))             # the matrix involved in the equality constraint\n",
    "b_eq = y                                    # the right-hand side of the equality constraint\n",
    "bounds = [(0,None)]*(2*N)\n",
    "# solving the linear program\n",
    "res = linprog(c, A_eq=A_eq, b_eq=b_eq, method='revised simplex', bounds=bounds)\n",
    "xL1p = res.x[:N]\n",
    "xL1m = res.x[N:2*N]\n",
    "xL1 = xL1p-xL1m\n",
    "print('Recovery by L1-norm minimization is unsuccesful: the relative L2 error is {:.2e}.'.format(LA.norm(x-xL1)/LA.norm(x)))"
   ]
  },
  {
   "cell_type": "code",
   "execution_count": 5,
   "metadata": {},
   "outputs": [
    {
     "name": "stdout",
     "output_type": "stream",
     "text": [
      "Recovery by owl-norm minimization is succesful: the relative L2 error is 1.70e-07\n"
     ]
    }
   ],
   "source": [
    "# attempt to recover x from y by owl-norm minimization\n",
    "import warnings\n",
    "warnings.filterwarnings('ignore')\n",
    "w = -np.sort(-np.random.rand(N))        # the weight vector is chosen arbitrarily\n",
    "xOWL = cp.Variable(N)\n",
    "a = cp.Variable(N)\n",
    "b = cp.Variable(N)\n",
    "objective = cp.Minimize(cp.sum(a)+cp.sum(b))\n",
    "constraints = [A@xOWL == y]\n",
    "constraints+= [ a[i]+b[j] >= +w[i]*xOWL[j] for i in range(N) for j in range(N)]\n",
    "constraints+= [ a[i]+b[j] >= -w[i]*xOWL[j] for i in range(N) for j in range(N)]\n",
    "OWL = cp.Problem(objective,constraints)\n",
    "OWL.solve(solver='OSQP')\n",
    "xOWL = xOWL.value\n",
    "print('Recovery by owl-norm minimization is succesful: the relative L2 error is {:.2e}'.format(LA.norm(x-xOWL)/LA.norm(x)))"
   ]
  },
  {
   "cell_type": "markdown",
   "metadata": {},
   "source": [
    "## Verification of semidefinite duality"
   ]
  },
  {
   "cell_type": "markdown",
   "metadata": {},
   "source": [
    "Here, one simply checks that the semidefinite programs\n",
    "\n",
    "$$ \n",
    "\\mathop{\\mathrm{minimize}}_{X\\in\\mathbb{R}^{d\\times d}} \\quad \\mathop{\\mathrm{tr}}(C^\\top X) \\quad \\mbox{ subject to } \\quad \\mathop{\\mathrm{tr}}(A_i^\\top X), i=1,\\dots,n \\mbox{ and } X\\succeq0\n",
    "$$\n",
    "and\n",
    "$$ \n",
    "\\mathop{\\mathrm{maximize}}_{\\nu\\in\\mathbb{R}^n} \\quad \\langle -b,\\nu\\rangle \\quad \\mbox{ subject to } \\quad \\nu_1 A_1 + \\dots+\\nu_n A_n + C\\succeq0\n",
    "$$\n",
    "\n",
    "usually have the same optimal values."
   ]
  },
  {
   "cell_type": "code",
   "execution_count": 6,
   "metadata": {},
   "outputs": [
    {
     "name": "stdout",
     "output_type": "stream",
     "text": [
      "The optimal values of the two problems agree: the primal value is -0.9966 and the dual value is -0.9966.\n"
     ]
    }
   ],
   "source": [
    "d = 6\n",
    "n = 10\n",
    "# a loop appears to prevent cases of nonfeasibility of the primal program\n",
    "primal_value = np.inf\n",
    "while abs(primal_value) == np.inf:\n",
    "    C = np.random.randn(d,d) \n",
    "    C = C+np.transpose(C)\n",
    "    A = np.zeros((n,d,d))\n",
    "    for i in range(n):\n",
    "        aux = np.random.randn(d,d)\n",
    "        A[i] = aux+np.transpose(aux) \n",
    "    b = np.random.rand(n)\n",
    "    # the primal problem\n",
    "    X = cp.Variable((d,d),PSD=True)\n",
    "    objective = cp.Minimize(cp.trace(C.T@X))\n",
    "    constraints = [cp.trace(A[i].T@X) == b[i] for i in range(n)] \n",
    "    primal = cp.Problem(objective,constraints)\n",
    "    primal.solve()   \n",
    "    primal_value = primal.value \n",
    "    # the dual problem\n",
    "    nu = cp.Variable(n)    \n",
    "    M = np.zeros((d,d))\n",
    "    for i in range(n):\n",
    "        M = M+nu[i]*A[i]\n",
    "    objective = cp.Maximize(-b@nu)\n",
    "    constraints = [(M+C)>>0] \n",
    "    dual = cp.Problem(objective,constraints)\n",
    "    dual.solve()  \n",
    "    dual_value = dual.value\n",
    "print('The optimal values of the two problems agree: the primal value is {:.4f} and the dual value is {:.4f}.'.format(primal_value,dual_value))"
   ]
  }
 ],
 "metadata": {
  "kernelspec": {
   "display_name": "Python 3",
   "language": "python",
   "name": "python3"
  },
  "language_info": {
   "codemirror_mode": {
    "name": "ipython",
    "version": 3
   },
   "file_extension": ".py",
   "mimetype": "text/x-python",
   "name": "python",
   "nbconvert_exporter": "python",
   "pygments_lexer": "ipython3",
   "version": "3.8.8"
  }
 },
 "nbformat": 4,
 "nbformat_minor": 4
}
