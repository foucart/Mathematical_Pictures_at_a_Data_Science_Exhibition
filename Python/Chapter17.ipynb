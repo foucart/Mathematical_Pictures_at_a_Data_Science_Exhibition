{
 "cells": [
  {
   "cell_type": "markdown",
   "metadata": {},
   "source": [
    "# Chapter 17: Sparse Recovery from One-Bit Observations "
   ]
  },
  {
   "cell_type": "code",
   "execution_count": 1,
   "metadata": {},
   "outputs": [],
   "source": [
    "import numpy as np\n",
    "from numpy import linalg as LA \n",
    "import matplotlib.pyplot as plt\n",
    "import time\n",
    "import cvxpy as cp"
   ]
  },
  {
   "cell_type": "markdown",
   "metadata": {},
   "source": [
    "## Estimating the direction from one-bit observations"
   ]
  },
  {
   "cell_type": "markdown",
   "metadata": {},
   "source": [
    "Here, the binary observations made on a vector $x\\in\\mathbb{R}^N$ with $\\|x\\|_2=1$ and $\\|x\\|_0\\leq s$ take the form\n",
    "$$ y_i = \\mathrm{sgn}\\big( \\langle a^{(i)},x\\rangle \\big), \\quad i=1,\\dots,m.$$"
   ]
  },
  {
   "cell_type": "code",
   "execution_count": 2,
   "metadata": {},
   "outputs": [],
   "source": [
    "# generate a normalized s-sparse vector together with its one-bit observation vector\n",
    "N = 200            # ambient dimension\n",
    "s = 8              # sparsity level\n",
    "m = 20000          # number of observation\n",
    "# create the vector x to be recovered\n",
    "x = np.zeros(N)\n",
    "supp = np.sort(np.random.permutation(N)[:s])\n",
    "x[supp] = np.random.randn(s)\n",
    "x = x/LA.norm(x)\n",
    "# produce the one-bit observation vector y \n",
    "A = np.sqrt(np.pi/2)/m*np.random.randn(m,N)\n",
    "y = np.sign(A@x)"
   ]
  },
  {
   "cell_type": "markdown",
   "metadata": {},
   "source": [
    "### The direction of x is well approximated by the outputs of the hard thresholding and the linear programming procedures, namely by"
   ]
  },
  {
   "cell_type": "markdown",
   "metadata": {},
   "source": [
    "- $ x_{\\rm ht} = H_s(A^\\top y) ;$\n",
    "- $ x_{\\rm lp} = \\underset{z,c\\in\\mathbb{R}^N}{\\mathrm{argmin}}\\; \\sum_{i=1}^{m} c_i \\quad \\mbox{ subject to } \\quad -c\\leq z\\leq c, \\quad \\sum_{i=1}^{m}y_i\\langle a^{(i)},z\\rangle=1, \\quad y_i\\langle a^{(i)},z\\rangle\\geq0, \\;i=1,\\dots,m. $"
   ]
  },
  {
   "cell_type": "code",
   "execution_count": 3,
   "metadata": {},
   "outputs": [
    {
     "name": "stdout",
     "output_type": "stream",
     "text": [
      "Hard thresholding took  0.002 sec to approximate x with (relative) L2-error 4.48e-02\n",
      "Linear programming took 24.46 sec to approximate x with (relative) L2-error 3.78e-03\n"
     ]
    }
   ],
   "source": [
    "t_ht_start = time.perf_counter()\n",
    "x_ht = np.zeros(N)\n",
    "aux = A.T @ y\n",
    "idx = np.argsort(-abs(aux))\n",
    "x_ht[idx[:s]] = aux[idx[:s]]\n",
    "t_ht_stop = time.perf_counter()\n",
    "t_ht = t_ht_stop - t_ht_start\n",
    "rel_error_ht = LA.norm(x-x_ht)\n",
    "print('Hard thresholding took  {:.3f} sec to approximate x with (relative) L2-error {:.2e}'\n",
    "      .format(t_ht,rel_error_ht))\n",
    "t_lp_start = time.perf_counter()\n",
    "x_lp = cp.Variable(N)\n",
    "c = cp.Variable(N)\n",
    "objective = cp.Minimize(cp.sum(c))\n",
    "constraints = [ cp.sum(cp.multiply(y,A@x_lp)) == 1 ]\n",
    "constraints+= [ cp.multiply(y, A@x_lp) >= 0 ]\n",
    "constraints+= [c + x_lp >= 0]\n",
    "constraints+= [c - x_lp >= 0]\n",
    "lp = cp.Problem(objective,constraints)\n",
    "lp.solve(solver='ECOS')\n",
    "t_lp_stop = time.perf_counter()\n",
    "t_lp = t_lp_stop - t_lp_start\n",
    "x_lp = x_lp.value\n",
    "rel_error_lp = LA.norm(x-x_lp)\n",
    "print('Linear programming took {:.2f} sec to approximate x with (relative) L2-error {:.2e}'\n",
    "      .format(t_lp,rel_error_lp))"
   ]
  },
  {
   "cell_type": "markdown",
   "metadata": {},
   "source": [
    "## Dependence of the estimation error on the number of one-bit observations"
   ]
  },
  {
   "cell_type": "markdown",
   "metadata": {},
   "source": [
    "Introducing the ration $\\lambda = \\dfrac{m}{s\\ln(eN/s)}$, one expects a behavior of the type $\\epsilon \\leq D\\lambda^{-c}$ for the estimation error $\\epsilon$, i.e. $\\ln(\\epsilon) \\leq -c\\ln(\\lambda) +\\ln(D)$.\n",
    "<br>\n",
    "For hard thresholding (the only procedure tested below as linear programming would take too long), Theorem 17.2 reveals that one can take  𝑐=1/6 , which is in fact improvable to  𝑐=1/2  (see Exercise 17.2)."
   ]
  },
  {
   "cell_type": "code",
   "execution_count": 4,
   "metadata": {},
   "outputs": [],
   "source": [
    "N = 200 \n",
    "s = 8\n",
    "n_tests = 500\n",
    "m_min = 10000\n",
    "m_max = 30000\n",
    "m_inc = 1000\n",
    "ratio = np.zeros(int((m_max-m_min)/m_inc+1))\n",
    "error_ht = np.zeros((n_tests,int((m_max-m_min)/m_inc+1)))\n",
    "t_experiment_start = time.perf_counter()\n",
    "for t in range(n_tests):\n",
    "    x = np.zeros(N)\n",
    "    supp = np.sort(np.random.permutation(N)[:s])\n",
    "    x[supp] = np.random.randn(s);\n",
    "    x = x/LA.norm(x);\n",
    "    for m in range(m_min, m_max+m_inc, m_inc):\n",
    "        A = np.sqrt(np.pi/2)/m * np.random.randn(m,N)\n",
    "        y = np.sign(A@x)\n",
    "        x_ht = np.zeros(N)\n",
    "        aux = A.T@y\n",
    "        idx = np.argsort(-abs(aux))\n",
    "        x_ht[idx[:s]] = aux[idx[:s]]\n",
    "        ratio[int((m-m_min)/m_inc)] = m/s/np.log(np.exp(1)*N/s)\n",
    "        error_ht[t,int((m-m_min)/m_inc)] = LA.norm(x-x_ht)\n",
    "t_experiment_stop = time.perf_counter()\n",
    "t_experiment = t_experiment_stop - t_experiment_start"
   ]
  },
  {
   "cell_type": "code",
   "execution_count": 5,
   "metadata": {},
   "outputs": [
    {
     "data": {
      "image/png": "[encoded data removed]",
      "text/plain": [
       "<Figure size 432x288 with 1 Axes>"
      ]
     },
     "metadata": {
      "needs_background": "light"
     },
     "output_type": "display_data"
    }
   ],
   "source": [
    "# visualize the result\n",
    "aux = np.polyfit(np.log(ratio),np.log(np.mean(error_ht,axis=0)),1)\n",
    "slope_ht = aux[0]\n",
    "plt.plot(np.log(ratio),np.log(np.mean(error_ht,axis=0)))\n",
    "plt.xlabel('ln($\\lambda$)')\n",
    "plt.ylabel('ln($\\epsilon$)')\n",
    "plt.legend(['hard thresholding slope={:.5f}'.format(slope_ht)])\n",
    "plt.title('N={}, s={} (time={:.0f}sec)'.format(N,s,np.round(t_experiment)))\n",
    "plt.show()"
   ]
  },
  {
   "cell_type": "markdown",
   "metadata": {},
   "source": [
    "## Estimating both the direction and the magitude from one-bit observations"
   ]
  },
  {
   "cell_type": "markdown",
   "metadata": {},
   "source": [
    "Here, the binary observations made on a vector $x\\in\\mathbb{R}^N$ with $\\|x\\|_2\\leq1$ and $\\|x\\|_0\\leq s$ take the form\n",
    "$$ y_i = \\mathrm{sgn}\\big( \\langle a^{(i)},x\\rangle - \\theta_i \\big), \\quad i=1,\\dots,m.$$\n",
    "The vector $x\\in\\mathbb{R}^N$ is fully approximated through the estimation of the direction of the augmented vector $\\tilde{x} = [x;1]\\in\\mathbb{R}^{N+1}$ via \"lifted\" versions of the hard thresholding and the linear programming procedures."
   ]
  },
  {
   "cell_type": "code",
   "execution_count": 6,
   "metadata": {},
   "outputs": [],
   "source": [
    "# select problem sizes\n",
    "N = 200 \n",
    "s = 8\n",
    "m = 20000\n",
    "# create the sparse vector x to be recovered\n",
    "x = np.zeros(N)\n",
    "supp = np.sort(np.random.permutation(N)[:s])\n",
    "x[supp] = np.random.randn(s)\n",
    "x = np.random.rand(1)*x/LA.norm(x)\n",
    "# produce the observation vector y\n",
    "A = np.sqrt(np.pi/2)/m * np.random.randn(m,N)\n",
    "theta = np.sqrt(np.pi/2)/m * np.random.randn(m)\n",
    "y = np.sign(A@x-theta)\n",
    "A_tilde = np.column_stack((A,-theta))"
   ]
  },
  {
   "cell_type": "code",
   "execution_count": 7,
   "metadata": {},
   "outputs": [
    {
     "name": "stdout",
     "output_type": "stream",
     "text": [
      "Hard thresholding took  0.002 sec to approximate x with relative L2-error of 6.49e-02\n",
      "Linear programming took 26.82 sec to approximate x with relative L2-error of 8.51e-03\n"
     ]
    }
   ],
   "source": [
    "# estimation via lifted hard thresholding \n",
    "t_ht_start = time.perf_counter()\n",
    "x_tilde_ht = np.zeros(N+1)\n",
    "aux = A_tilde.T@y\n",
    "idx = np.argsort(-abs(aux))\n",
    "x_tilde_ht[idx[:s+1]] = aux[idx[:s+1]]\n",
    "x_ht = x_tilde_ht[:N]/x_tilde_ht[N]\n",
    "t_ht_stop = time.perf_counter()\n",
    "t_ht = t_ht_stop - t_ht_start\n",
    "rel_error_ht = LA.norm(x-x_ht)/LA.norm(x)\n",
    "print('Hard thresholding took  {:.3f} sec to approximate x with relative L2-error of {:.2e}'\n",
    "      .format(t_ht, rel_error_ht))\n",
    "# estimation via lifted linear programming\n",
    "t_lp_start = time.perf_counter()\n",
    "x_tilde_lp = cp.Variable(N+1)\n",
    "c = cp.Variable(N+1)\n",
    "objective = cp.Minimize(cp.sum(c))\n",
    "constraints = [ cp.sum(cp.multiply(y,A_tilde@x_tilde_lp)) == 1 ]\n",
    "constraints+= [ cp.multiply(y, A_tilde@x_tilde_lp) >= 0 ]\n",
    "constraints+= [c + x_tilde_lp >= 0]\n",
    "constraints+= [c - x_tilde_lp >= 0]\n",
    "lp = cp.Problem(objective,constraints)\n",
    "lp.solve(solver='ECOS')\n",
    "x_lp = x_tilde_lp.value[:N]/x_tilde_lp.value[N]\n",
    "t_lp_stop = time.perf_counter()\n",
    "t_lp = t_lp_stop - t_lp_start\n",
    "rel_error_lp = LA.norm(x-x_lp)/LA.norm(x)\n",
    "print('Linear programming took {:.2f} sec to approximate x with relative L2-error of {:.2e}'\n",
    "      .format(t_lp, rel_error_lp))"
   ]
  }
 ],
 "metadata": {
  "kernelspec": {
   "display_name": "Python 3",
   "language": "python",
   "name": "python3"
  },
  "language_info": {
   "codemirror_mode": {
    "name": "ipython",
    "version": 3
   },
   "file_extension": ".py",
   "mimetype": "text/x-python",
   "name": "python",
   "nbconvert_exporter": "python",
   "pygments_lexer": "ipython3",
   "version": "3.8.8"
  }
 },
 "nbformat": 4,
 "nbformat_minor": 4
}
