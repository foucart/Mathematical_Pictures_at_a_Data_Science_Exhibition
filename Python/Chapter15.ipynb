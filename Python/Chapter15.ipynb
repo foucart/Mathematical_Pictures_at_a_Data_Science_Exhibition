{
 "cells": [
  {
   "cell_type": "markdown",
   "metadata": {},
   "source": [
    "# Chapter 15: The Complexity of Sparse Recovery"
   ]
  },
  {
   "cell_type": "code",
   "execution_count": 1,
   "metadata": {},
   "outputs": [],
   "source": [
    "import numpy as np\n",
    "from numpy import linalg as LA\n",
    "from scipy import linalg"
   ]
  },
  {
   "cell_type": "markdown",
   "metadata": {},
   "source": [
    "## Prony method: s-sparse recovery from 2s Fourier observations"
   ]
  },
  {
   "cell_type": "code",
   "execution_count": 2,
   "metadata": {},
   "outputs": [],
   "source": [
    "# generate an s-sparse vector together with its first 2s Fourier observations\n",
    "N = 500               # ambient dimension\n",
    "s = 10                # sparsity level\n",
    "m = 2*s               # number of observations\n",
    "# create the sparse vector x\n",
    "x = np.zeros(N)\n",
    "supp_origi = np.sort(np.random.permutation(N)[:s])\n",
    "x[supp_origi] = np.random.normal(0,1,s)\n",
    "# produce the observation vector y made of exact m=2s Fourier coefficients \n",
    "xhat = np.fft.fft(x)\n",
    "y_exact = xhat[:m]"
   ]
  },
  {
   "cell_type": "code",
   "execution_count": 3,
   "metadata": {},
   "outputs": [
    {
     "name": "stdout",
     "output_type": "stream",
     "text": [
      "In the exact case, the original and recovered supports agree:\n",
      "[133 166 206 211 239 245 311 361 384 435]\n",
      "[133 166 206 211 239 245 311 361 384 435]\n"
     ]
    }
   ],
   "source": [
    "# Exact recovery of the support of x via Prony method\n",
    "phat = np.zeros(N,dtype=np.cfloat)\n",
    "phat[0] = 1\n",
    "M = linalg.toeplitz(y_exact[s-1:2*s-1], y_exact[s-1::-1])\n",
    "phat[1:s+1] = -linalg.solve(M,y_exact[s:2*s])\n",
    "p = np.fft.ifft(phat)\n",
    "idx = np.argsort(abs(p))\n",
    "supp_exact = np.sort(idx[0:s])\n",
    "print('In the exact case, the original and recovered supports agree:')\n",
    "print(supp_origi)\n",
    "print(supp_exact)"
   ]
  },
  {
   "cell_type": "markdown",
   "metadata": {},
   "source": [
    "## Nonrobustness (hence nonstability) of Prony method"
   ]
  },
  {
   "cell_type": "code",
   "execution_count": 4,
   "metadata": {},
   "outputs": [
    {
     "name": "stdout",
     "output_type": "stream",
     "text": [
      "In the noisy case, the original and recovered supports do not agree anymore:\n",
      "[133 166 206 211 239 245 311 361 384 435]\n",
      "[133 166 208 209 242 243 311 361 384 435]\n"
     ]
    }
   ],
   "source": [
    "# Adding observation noise destroys the recovery of the support\n",
    "noise = 1e-5*np.random.normal(0,1,m)\n",
    "y_noisy = y_exact+noise\n",
    "phat = np.zeros(N,dtype=np.cfloat)\n",
    "phat[0] = 1\n",
    "M = linalg.toeplitz(y_noisy[s-1:2*s-1], y_noisy[s-1::-1])\n",
    "phat[1:s+1] = -linalg.solve(M,y_noisy[s:2*s])\n",
    "p = np.fft.ifft(phat)\n",
    "idx = np.argsort(abs(p))\n",
    "supp_noisy = np.sort(idx[0:s])\n",
    "print('In the noisy case, the original and recovered supports do not agree anymore:')\n",
    "print(supp_origi)\n",
    "print(supp_noisy)"
   ]
  },
  {
   "cell_type": "code",
   "execution_count": 5,
   "metadata": {},
   "outputs": [
    {
     "name": "stdout",
     "output_type": "stream",
     "text": [
      "Recovery from exact observations is quite successful: relative L2-error = 7.65e-13.\n",
      "Recovery from inexact observations is not successful: relative L2-error = 9.32e-01.\n"
     ]
    }
   ],
   "source": [
    "# The outputted vectors do not agree either\n",
    "F = linalg.dft(N)           # the full discrete Fourier matrix\n",
    "A = F[:2*s,:]               # the submatrix for the first 2s Fourier coefficients\n",
    "x_exact = np.zeros(N, dtype=np.cfloat)\n",
    "x_exact[supp_exact] = linalg.solve(np.transpose(A[:,supp_exact])@A[:,supp_exact],\n",
    "                                   np.transpose(A[:,supp_exact])@y_exact)\n",
    "rel_error_exact = LA.norm(x-x_exact)/LA.norm(x)\n",
    "x_noisy = np.zeros(N, dtype=np.cfloat)\n",
    "x_noisy[supp_noisy] = linalg.solve(np.transpose(A[:,supp_noisy])@A[:,supp_noisy],\n",
    "                                   np.transpose(A[:,supp_noisy])@y_noisy)\n",
    "rel_error_noisy = LA.norm(x-x_noisy)/LA.norm(x)\n",
    "print('Recovery from exact observations is quite successful: relative L2-error = {:.2e}.'.format(rel_error_exact))\n",
    "print('Recovery from inexact observations is not successful: relative L2-error = {:.2e}.'.format(rel_error_noisy))"
   ]
  },
  {
   "cell_type": "markdown",
   "metadata": {},
   "source": [
    "## Robustness of $\\ell_1$-minimization "
   ]
  },
  {
   "cell_type": "markdown",
   "metadata": {},
   "source": [
    "Note that the number of observations need to be increased: Chapter 15 says that stability and robustness cannot be achieved with $m=2s$ observations."
   ]
  },
  {
   "cell_type": "code",
   "execution_count": 6,
   "metadata": {},
   "outputs": [],
   "source": [
    "import cvxpy as cp"
   ]
  },
  {
   "cell_type": "code",
   "execution_count": 7,
   "metadata": {},
   "outputs": [
    {
     "name": "stdout",
     "output_type": "stream",
     "text": [
      "Recovery from exact observations is quite successful: relative L2-error = 2.23e-06.\n",
      "Recovery from inexact observations is not bad either: relative L2-error = 2.80e-06.\n"
     ]
    }
   ],
   "source": [
    "# For L1 minimization, adding observation noise does not destroy the recovery \n",
    "m = 4*s\n",
    "A = F[:m,:] \n",
    "y_exact = A@x\n",
    "noise = 1e-5*np.random.normal(0,1,m)\n",
    "y_noisy = y_exact+noise\n",
    "x1_exact = cp.Variable(N)\n",
    "objective = cp.Minimize(cp.norm(x1_exact,1))\n",
    "constraints = [ A@x1_exact == y_exact]\n",
    "exact = cp.Problem(objective,constraints)\n",
    "exact.solve(solver='SCS',max_iters=3000,eps=1e-6)\n",
    "x1_exact = x1_exact.value\n",
    "rel_error_exact = LA.norm(x-x1_exact)/LA.norm(x)\n",
    "print('Recovery from exact observations is quite successful: relative L2-error = {:.2e}.'.format(rel_error_exact))\n",
    "x1_noisy = cp.Variable(N)\n",
    "objective = cp.Minimize(cp.norm(x1_noisy,1))\n",
    "constraints = [A@x1_noisy == y_noisy]\n",
    "noisy = cp.Problem(objective,constraints)\n",
    "noisy.solve(solver='SCS',max_iters=3000,eps=1e-6)\n",
    "x1_noisy = x1_noisy.value\n",
    "rel_error_noisy = LA.norm(x-x1_noisy)/LA.norm(x)\n",
    "print('Recovery from inexact observations is not bad either: relative L2-error = {:.2e}.'.format(rel_error_noisy))"
   ]
  }
 ],
 "metadata": {
  "kernelspec": {
   "display_name": "Python 3",
   "language": "python",
   "name": "python3"
  },
  "language_info": {
   "codemirror_mode": {
    "name": "ipython",
    "version": 3
   },
   "file_extension": ".py",
   "mimetype": "text/x-python",
   "name": "python",
   "nbconvert_exporter": "python",
   "pygments_lexer": "ipython3",
   "version": "3.8.8"
  }
 },
 "nbformat": 4,
 "nbformat_minor": 2
}
