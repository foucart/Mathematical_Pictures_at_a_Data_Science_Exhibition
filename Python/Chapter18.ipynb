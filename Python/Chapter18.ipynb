{
 "cells": [
  {
   "cell_type": "markdown",
   "metadata": {},
   "source": [
    "# Chapter 18: Group Testing"
   ]
  },
  {
   "cell_type": "code",
   "execution_count": 1,
   "metadata": {},
   "outputs": [],
   "source": [
    "import numpy as np\n",
    "import math\n",
    "import cvxpy as cp"
   ]
  },
  {
   "cell_type": "markdown",
   "metadata": {},
   "source": [
    "One attempts to recover an unknown subset $S$ of $\\{1,\\dots,N\\}$ from observations of the type\n",
    "$$ y_i = \\left\\{  \\begin{matrix} 0 & \\mbox{ if } S\\cap R_i = \\emptyset, \\\\ 1 & \\mbox{ if } S\\cap R_i \\neq \\emptyset, \\end{matrix} \\right. \\quad i = 1,\\dots,m, $$\n",
    "where each $R_i$ is a subset of $\\{1,\\dots,N\\}$."
   ]
  },
  {
   "cell_type": "markdown",
   "metadata": {},
   "source": [
    "## Adaptive group testing: binary splitting strategy"
   ]
  },
  {
   "cell_type": "code",
   "execution_count": 2,
   "metadata": {},
   "outputs": [],
   "source": [
    "# generate a subset of [1:N] with size s\n",
    "n = 10\n",
    "N = 2**n\n",
    "s = 5\n",
    "S = np.sort(np.random.permutation(N)[:s])"
   ]
  },
  {
   "cell_type": "markdown",
   "metadata": {},
   "source": [
    "Here, the subsets $R_i$ are chosen adaptively, i.e., they depend on the outcomes of the previous tests. The observation and recovery procedures are thus interwinned."
   ]
  },
  {
   "cell_type": "code",
   "execution_count": 3,
   "metadata": {},
   "outputs": [
    {
     "name": "stdout",
     "output_type": "stream",
     "text": [
      "The original and recovered supports agree:\n",
      "[ 13 342 374 398 852]\n",
      "[ 13 342 374 398 852]\n"
     ]
    }
   ],
   "source": [
    "# recover each index from S one at a time, with n=log_2(N) tests for each of them,\n",
    "# resulting in m=s*log_2(N) adaptive tests in total\n",
    "S_rec = []\n",
    "while np.setdiff1d(S,S_rec).size != 0:\n",
    "    length_R = N\n",
    "    R_min = 0\n",
    "    R_max = N-1\n",
    "    for i in range(n):\n",
    "        length_R = int(length_R/2)\n",
    "        R_left = range(R_min,R_min+length_R)\n",
    "        R_right = range(R_min+length_R,R_max+1)\n",
    "        if np.intersect1d(S,np.setdiff1d(R_left,S_rec)).size ==  0:\n",
    "            R_min = min(R_right)\n",
    "            R_max = max(R_right)\n",
    "        else:\n",
    "            R_min = min(R_left)\n",
    "            R_max = max(R_left)\n",
    "    new_idx = R_min\n",
    "    S_rec.append(new_idx)\n",
    "print('The original and recovered supports agree:')\n",
    "print(S)\n",
    "print(np.asarray(S_rec))"
   ]
  },
  {
   "cell_type": "markdown",
   "metadata": {},
   "source": [
    "## Nonadaptive group testing: a deterministically constructed test matrix"
   ]
  },
  {
   "cell_type": "markdown",
   "metadata": {},
   "source": [
    "Auxiliary function: given integers $d\\leq p$, the function below produces the $p\\times p^d$ matrix with entries in $\\{0,1,\\dots,p-1\\}$ whose columns indexed by polynomials $f$ of degree $<d$ contains the values $f(0),f(1),\\dots,f(p-1)$ modulo $p$."
   ]
  },
  {
   "cell_type": "code",
   "execution_count": 4,
   "metadata": {},
   "outputs": [],
   "source": [
    "def value_matrix(p,d):\n",
    "    M = np.zeros((p,p**d))\n",
    "    M_1 = np.zeros((p,p))\n",
    "    for c in range(p):\n",
    "        M_1[:,c] = c*np.ones(p)\n",
    "    if d==1:\n",
    "        M = M_1\n",
    "    else:\n",
    "        M_aux =  value_matrix(p,d-1)\n",
    "        pp = p**(d-1)\n",
    "        for c in range(p):\n",
    "            M[:,c*pp:(c+1)*pp] = (c+np.diag(range(p))@M_aux) % p\n",
    "    return M"
   ]
  },
  {
   "cell_type": "markdown",
   "metadata": {},
   "source": [
    "The test matrix $A$"
   ]
  },
  {
   "cell_type": "code",
   "execution_count": 5,
   "metadata": {},
   "outputs": [],
   "source": [
    "p = 13                  # the integer p has to be a prime number\n",
    "d = 4                   # the integer d must be smaller than p\n",
    "N = p**d                # the number of columns of the test matrix A\n",
    "m = p**2                # the number of tests, identified with rows of A\n",
    "A = np.zeros((m,N))\n",
    "M = value_matrix(p,d)\n",
    "for j in range(p-1):\n",
    "    A[j*p:(j+1)*p,:] = 1*(M==j)"
   ]
  },
  {
   "cell_type": "markdown",
   "metadata": {},
   "source": [
    "Verification that the matrix $A$ has coherence $ \\mu = \\frac{d-1}{p} $, so that $A$ is $s$-disjoint whenever $s<\\frac{p}{d-1}$."
   ]
  },
  {
   "cell_type": "code",
   "execution_count": 6,
   "metadata": {},
   "outputs": [
    {
     "name": "stdout",
     "output_type": "stream",
     "text": [
      "The coherence of A is 0.231, which equals (d-1)/p=0.231\n"
     ]
    }
   ],
   "source": [
    "Gram = A.T @ A\n",
    "coh = np.max(abs(Gram-np.diag(np.diag(Gram))))/p\n",
    "print('The coherence of A is {:.3f}, which equals (d-1)/p={:.3f}'.format(coh,(d-1)/p))"
   ]
  },
  {
   "cell_type": "markdown",
   "metadata": {},
   "source": [
    "## Nonadaptive group testing: recovery via a linear feasibility program"
   ]
  },
  {
   "cell_type": "code",
   "execution_count": 7,
   "metadata": {},
   "outputs": [
    {
     "name": "stdout",
     "output_type": "stream",
     "text": [
      "The original and recovered supports agree:\n",
      "[ 9389 11317 24810 27649]\n",
      "[ 9389 11317 24810 27649]\n"
     ]
    }
   ],
   "source": [
    "# generate a subset of [1:N] with size s\n",
    "s = math.ceil( p/(d-1)) - 1\n",
    "S = np.sort(np.random.permutation(N)[:s])\n",
    "x = np.zeros(N)\n",
    "x[S] = np.ones(s)\n",
    "# produce the vector of test outcomes\n",
    "y = 1*(A@x > 0)\n",
    "# solve the linear feasibility program\n",
    "I0 = np.where( y==0 )\n",
    "I1 = np.where( y==1 )\n",
    "z = cp.Variable(N,nonneg=True)\n",
    "objective = cp.Minimize(1)\n",
    "constraints = [A[I0[0],:]@z==0]\n",
    "constraints+= [A[I1[0],:]@z>=1]\n",
    "feasible = cp.Problem(objective,constraints)\n",
    "feasible.solve(solver='SCS')\n",
    "S_rec = np.where( z.value>1e-3 )[0]  # note: 'np.where(z.value)[0]' will work if the simplex algorithm is used\n",
    "print('The original and recovered supports agree:')\n",
    "print(S)\n",
    "print(S_rec)"
   ]
  }
 ],
 "metadata": {
  "kernelspec": {
   "display_name": "Python 3",
   "language": "python",
   "name": "python3"
  },
  "language_info": {
   "codemirror_mode": {
    "name": "ipython",
    "version": 3
   },
   "file_extension": ".py",
   "mimetype": "text/x-python",
   "name": "python",
   "nbconvert_exporter": "python",
   "pygments_lexer": "ipython3",
   "version": "3.8.8"
  }
 },
 "nbformat": 4,
 "nbformat_minor": 4
}
