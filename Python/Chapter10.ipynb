{
 "cells": [
  {
   "cell_type": "markdown",
   "metadata": {},
   "source": [
    "# Chapter 10: Approximability Models"
   ]
  },
  {
   "cell_type": "code",
   "execution_count": 1,
   "metadata": {},
   "outputs": [],
   "source": [
    "import numpy as np\n",
    "from scipy import linalg as LA\n",
    "from scipy import integrate\n",
    "import cvxpy as cp\n",
    "import matplotlib.pyplot as plt"
   ]
  },
  {
   "cell_type": "markdown",
   "metadata": {},
   "source": [
    "## Hilbert setting"
   ]
  },
  {
   "cell_type": "markdown",
   "metadata": {},
   "source": [
    "Note that the observation map, denoted $\\Lambda$ in the text, is denoted $L$ here."
   ]
  },
  {
   "cell_type": "code",
   "execution_count": 2,
   "metadata": {},
   "outputs": [],
   "source": [
    "# generate the approximation space V and the observation map L\n",
    "N = 40                         # dimension of the ambient Hilbert space\n",
    "n = 9                          # dimension of the space V\n",
    "epsilon = 0.1                  # the approximation parameter\n",
    "V = np.random.randn(N,n)       # the columns of this matrix form a basis of the space V\n",
    "V = V@LA.inv(LA.sqrtm(V.T@V))  # the columns now form an orthonormal basis\n",
    "m = 22                         # number of observations\n",
    "L = np.random.randn(m,N)       # the observation map\n",
    "# generate an element in the approximability set and its observation vector\n",
    "aux = np.random.randn(N,1)\n",
    "f = V@np.random.rand(n,1) + (2/3)*epsilon*aux/LA.norm(aux)\n",
    "y = L@f                                              "
   ]
  },
  {
   "cell_type": "markdown",
   "metadata": {},
   "source": [
    "Produce the Chebyshev center $f^\\star$ (according to Proposition 10.3) and the compatibility parameter $\\mu$ (according to Theorem 10.4)."
   ]
  },
  {
   "cell_type": "code",
   "execution_count": 3,
   "metadata": {},
   "outputs": [],
   "source": [
    "# define the Gramian Gu and the cross-Gramian C (the Gramian Gv is the identity)\n",
    "Gu = L@L.T\n",
    "C = L@V\n",
    "# produce f_star\n",
    "Gu_inv = LA.inv(Gu)\n",
    "b = LA.solve(C.T@Gu_inv@C,C.T@Gu_inv@y)\n",
    "a = Gu_inv@(y-C@b)\n",
    "f_star = L.T@a + V@b\n",
    "# produce mu\n",
    "mu = 1/np.sqrt(min(LA.eigh(C.T@Gu_inv@C,eigvals_only=True)))"
   ]
  },
  {
   "cell_type": "markdown",
   "metadata": {},
   "source": [
    "Compute the local worst-case error at $f^\\star$ by two different methods:\n",
    "- the one which is implicit in (10.7)-(10.8);\n",
    "- the one, valid for an arbitrary $f$ instead of $f^\\star$, which is to be found later in Exercise 23.2."
   ]
  },
  {
   "cell_type": "code",
   "execution_count": 4,
   "metadata": {},
   "outputs": [
    {
     "name": "stdout",
     "output_type": "stream",
     "text": [
      "The two worst-case errors are 0.2128 and 0.2128: they are indeed identical.\n"
     ]
    }
   ],
   "source": [
    "# the worst-case error using the first method\n",
    "P1 = np.identity(N) - V@V.T    # the orthogonal projector onto the orthogonal space to V \n",
    "wce1 = mu*np.sqrt(epsilon**2 - LA.norm(P1@f_star)**2)\n",
    "# the worst-case error using the second method\n",
    "Q,R = LA.qr(L.T)\n",
    "K = Q[:,m:N]                   # the columns form an orthonormal basis for ker(L) \n",
    "P2 = K@LA.inv(K.T@K)@K.T       # the orthogonal projector onto ker(L)\n",
    "h = L.T@LA.solve(L@L.T,y)      # the element orthogonal to ker(L) for which L(h)=y\n",
    "c = cp.Variable((1,1))\n",
    "d = cp.Variable((1,1),nonneg=True)\n",
    "objective = cp.Minimize(c)\n",
    "a11 = K.T@(d*P1-np.identity(N))@K\n",
    "a12 = K.T@(d*P1@h+P2@f_star)\n",
    "a22 = c+d*(LA.norm(P1@h)**2-epsilon**2)\n",
    "constraints = [ cp.vstack( (cp.hstack((a11, a12)),cp.hstack((a12.T,a22))) )>>0]\n",
    "wce_SDP = cp.Problem(objective,constraints)\n",
    "wce_SDP.solve()\n",
    "wce2 = np.sqrt( LA.norm(h-f_star+P2@f_star)**2 + LA.norm(P2@f_star)**2 + c.value[0,0] )\n",
    "print('The two worst-case errors are {:.4f} and {:.4f}: they are indeed identical.'.format(wce1,wce2))"
   ]
  },
  {
   "cell_type": "markdown",
   "metadata": {},
   "source": [
    "## Real-valued quantity of interest"
   ]
  },
  {
   "cell_type": "markdown",
   "metadata": {},
   "source": [
    "The example considered here consists of the optimal estimation of the integral of a univariate function $f\\in C([-1,1])$ given its point values at $m$ equispaced points $x^{(1)},\\dots,x^{(m)}\\in[-1,1]$."
   ]
  },
  {
   "cell_type": "code",
   "execution_count": 5,
   "metadata": {},
   "outputs": [
    {
     "data": {
      "image/png": "[encoded data removed]",
      "text/plain": [
       "<Figure size 432x288 with 1 Axes>"
      ]
     },
     "metadata": {
      "needs_background": "light"
     },
     "output_type": "display_data"
    }
   ],
   "source": [
    "# generate a function f and its vector of point values\n",
    "def f(x):\n",
    "    return np.sin(np.pi*x**3+x**2+1)\n",
    "m = 19\n",
    "eqpts = np.linspace(-1,1,m)\n",
    "y = f(eqpts)\n",
    "grid = np.linspace(-1,1,201)\n",
    "plt.plot(grid,f(grid),'b-',eqpts,y,'r*')\n",
    "plt.show()"
   ]
  },
  {
   "cell_type": "markdown",
   "metadata": {},
   "source": [
    "An optimal quadrature rule has the form $y\\in \\mathbb{R} \\mapsto \\sum_{i=1}^{m} a_i^\\star y_i\\in\\mathbb{R}$, where the vector $a^\\star\\in\\mathbb{R}^m$ is a solution to\n",
    "$$ \\mathop{\\mathrm{minimize}}_{a\\in\\mathbb{R}^m} \\sum_{i=1}^{m} |a_i| \\quad \\mbox{ subject to }\\quad \\sum_{i=1}^{m}a_iv_j(x^{(i)}) = \\int_{-1}^{1} v_j(x)dx, \\quad j=1,\\dots,n,$$\n",
    "where $(v_1,\\dots,v_n)$ denotes a basis for the space $\\mathcal{V}$, chosen here to be made of polynomials of degree $<n$. "
   ]
  },
  {
   "cell_type": "markdown",
   "metadata": {},
   "source": [
    "Note that the optimal rule is independent of the parameter $\\varepsilon$ defining the approximability model."
   ]
  },
  {
   "cell_type": "code",
   "execution_count": 6,
   "metadata": {},
   "outputs": [
    {
     "name": "stdout",
     "output_type": "stream",
     "text": [
      "The optimal estimation of the integral is 0.9749, while the true integral is 0.9765, corresponding to a relative error of 0.0016.\n"
     ]
    }
   ],
   "source": [
    "# choose the monomial basis and compute a vector of optimal quadrature weights\n",
    "n = 9\n",
    "M = np.zeros((n,m))     # the matrix involved in the equality constraint\n",
    "b = np.zeros(n)         # the right-hand side of the equality constraint\n",
    "for j in range(n):\n",
    "    M[j,:] = eqpts**j\n",
    "    b[j] = (1-(-1)**(j+1))/(j+1)\n",
    "a_star = cp.Variable(m)\n",
    "objective = cp.Minimize(cp.norm1(a_star))\n",
    "constraints = [M@a_star==b]\n",
    "L1 = cp.Problem(objective,constraints)\n",
    "L1.solve()\n",
    "a_star = a_star.value\n",
    "print('The optimal estimation of the integral is {:.4f}, while the true integral is {:.4f}, corresponding to a relative error of {:.4f}.'.\n",
    "     format(y@a_star, integrate.quad(f,-1,1)[0], abs(y@a_star-integrate.quad(f,-1,1)[0])/integrate.quad(f,-1,1)[0]) )"
   ]
  },
  {
   "cell_type": "markdown",
   "metadata": {},
   "source": [
    "Does the computed weight vector $a^\\star\\in\\mathbb{R}^m$ have sparsity at most $n$?"
   ]
  },
  {
   "cell_type": "code",
   "execution_count": 7,
   "metadata": {},
   "outputs": [
    {
     "name": "stdout",
     "output_type": "stream",
     "text": [
      "The sparsity of the computed weight vector is 19.\n"
     ]
    }
   ],
   "source": [
    "print('The sparsity of the computed weight vector is {:d}.'.format(sum(abs(a_star)>1e-3)))"
   ]
  },
  {
   "cell_type": "markdown",
   "metadata": {},
   "source": [
    "This is not a contradiction with the claim that $\\textit{one of}$ the minimizers is $n$-sparse: if there are several minimizers, then some of them might not be sparse! Outputting a sparse minimizer depends on the algorithm being execute (and in turn on the CVX solver being used). The simplex algorithm does output a sparse solution."
   ]
  },
  {
   "cell_type": "code",
   "execution_count": 8,
   "metadata": {},
   "outputs": [
    {
     "name": "stdout",
     "output_type": "stream",
     "text": [
      "This time, the sparsity of the computed weight vector is 19.\n"
     ]
    }
   ],
   "source": [
    "ap = cp.Variable(m,nonneg=True)\n",
    "am = cp.Variable(m,nonneg=True)\n",
    "objective = cp.Minimize(cp.sum(ap+am))\n",
    "constraints = [M@(ap-am)==b]\n",
    "sparse = cp.Problem(objective,constraints)\n",
    "sparse.solve(solver='SCS')\n",
    "a_star2 = ap.value-am.value\n",
    "print('This time, the sparsity of the computed weight vector is {:d}.'.format(sum(abs(a_star2)>1e-3)))"
   ]
  }
 ],
 "metadata": {
  "kernelspec": {
   "display_name": "Python 3",
   "language": "python",
   "name": "python3"
  },
  "language_info": {
   "codemirror_mode": {
    "name": "ipython",
    "version": 3
   },
   "file_extension": ".py",
   "mimetype": "text/x-python",
   "name": "python",
   "nbconvert_exporter": "python",
   "pygments_lexer": "ipython3",
   "version": "3.8.8"
  }
 },
 "nbformat": 4,
 "nbformat_minor": 4
}
