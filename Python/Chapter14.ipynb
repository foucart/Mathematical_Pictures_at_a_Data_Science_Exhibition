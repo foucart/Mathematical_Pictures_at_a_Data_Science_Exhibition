{
 "cells": [
  {
   "cell_type": "markdown",
   "metadata": {},
   "source": [
    "# Chapter 14: Sparse Recovery from Linear Observations"
   ]
  },
  {
   "cell_type": "code",
   "execution_count": 1,
   "metadata": {},
   "outputs": [],
   "source": [
    "import numpy as np\n",
    "from numpy import linalg as LA\n",
    "import matplotlib.pyplot as plt\n",
    "import time\n",
    "import warnings\n",
    "warnings.filterwarnings('ignore')"
   ]
  },
  {
   "cell_type": "markdown",
   "metadata": {},
   "source": [
    "## Illustration of the success of $\\ell$1-minimization"
   ]
  },
  {
   "cell_type": "code",
   "execution_count": 2,
   "metadata": {},
   "outputs": [],
   "source": [
    "# generate a sparse vector together with its observation vector\n",
    "N = 2000             # ambient dimension\n",
    "m = 500              # number of measurements\n",
    "s = 80               # sparsity level\n",
    "# create the sparse vector x\n",
    "x = np.zeros(N)\n",
    "supp = np.sort(np.random.permutation(N)[:s])\n",
    "x[supp] = np.random.normal(0,1,s)\n",
    "# define the observation matrix A\n",
    "A = np.sqrt(np.pi/2)/m*np.random.normal(0,1,size=(m,N))\n",
    "# produce the observation vector y\n",
    "y = A@x"
   ]
  },
  {
   "cell_type": "markdown",
   "metadata": {},
   "source": [
    "First, one verifies that the sparse vector x is exactly recovered from $y=Ax$ by $\\ell_1$-minimization (the code uses CVXPY)."
   ]
  },
  {
   "cell_type": "code",
   "execution_count": 3,
   "metadata": {},
   "outputs": [],
   "source": [
    "import cvxpy as cp"
   ]
  },
  {
   "cell_type": "code",
   "execution_count": 4,
   "metadata": {},
   "outputs": [
    {
     "name": "stdout",
     "output_type": "stream",
     "text": [
      "Recovery considered to be exact, with relative L2-error of 1.13e-05\n"
     ]
    }
   ],
   "source": [
    "x0 = cp.Variable(N)\n",
    "objective = cp.Minimize(cp.norm(x0,1))\n",
    "constraints = [A@x0==y]\n",
    "l1_min = cp.Problem(objective,constraints)\n",
    "l1_min.solve(solver='SCS')\n",
    "x0 = x0.value\n",
    "print('Recovery considered to be exact, with relative L2-error of {:.2e}'.format(LA.norm(x-x0)/LA.norm(x)))"
   ]
  },
  {
   "cell_type": "markdown",
   "metadata": {},
   "source": [
    "Next, one compares three different ways of solving the $\\ell_1$-minimization program: <br>\n",
    "1. with the objective function plainly given as the $\\ell_1$-norm (as above);\n",
    "2. by introducing nonnegative slack vectors $z^+$ and $z^-$, so as to solve the standard-form linear program $$\n",
    "\\underset{z^+,z^-\\in\\mathbb{R}^N}{\\rm minimize} \\sum_{j=1}^N (z^+_j + z^-_j)\n",
    "\\qquad \\mbox{subject to } A(z^+-z^-) = y, \\; z^+ \\ge 0, \\; z^- \\ge 0;\n",
    "$$\n",
    "3. by introducing a slack vector $c$, so as to solve the alternative linear program $$\n",
    "\\underset{z,c\\in\\mathbb{R}^N}{\\rm minimize} \\sum_{j=1}^N c_j  \\qquad \\mbox{subject to } Az = y, \\; -c \\leq z \\leq c.\n",
    "$$"
   ]
  },
  {
   "cell_type": "code",
   "execution_count": 5,
   "metadata": {},
   "outputs": [
    {
     "name": "stdout",
     "output_type": "stream",
     "text": [
      "Recovery performed in 1.03 sec with relative L2-error of 1.13e-05 by plain L1-minimization\n"
     ]
    }
   ],
   "source": [
    "# plain L1-minimization\n",
    "t1_start = time.perf_counter()\n",
    "x1 = cp.Variable(N)\n",
    "objective = cp.Minimize(cp.norm(x1,1))\n",
    "constraints = [A@x1==y]\n",
    "l1_min = cp.Problem(objective,constraints)\n",
    "l1_min.solve(solver='SCS')\n",
    "t1_stop = time.perf_counter()\n",
    "x1 = x1.value\n",
    "t1 = t1_stop-t1_start\n",
    "rel_error1 = LA.norm(x-x1)/LA.norm(x)\n",
    "print('Recovery performed in {:.2f} sec with relative L2-error of {:.2e} by plain L1-minimization'\n",
    "      .format(t1,rel_error1))"
   ]
  },
  {
   "cell_type": "code",
   "execution_count": 6,
   "metadata": {},
   "outputs": [
    {
     "name": "stdout",
     "output_type": "stream",
     "text": [
      "Recovery performed in 3.35 sec with relative L2-error of 9.75e-06 by the standard-form linear program\n"
     ]
    }
   ],
   "source": [
    "# the standard-form linear program\n",
    "t2_start = time.perf_counter()\n",
    "z_p = cp.Variable(N,nonneg=True)\n",
    "z_m = cp.Variable(N,nonneg=True)\n",
    "objective = cp.Minimize(cp.sum(z_p+z_m))\n",
    "constraints = [A@(z_p-z_m)==y]\n",
    "standard_min = cp.Problem(objective,constraints)\n",
    "standard_min.solve(solver='SCS')\n",
    "x2 = z_p.value-z_m.value\n",
    "t2_stop = time.perf_counter()\n",
    "t2 = t2_stop-t2_start\n",
    "rel_error2 = LA.norm(x-x2)/LA.norm(x)\n",
    "print('Recovery performed in {:.2f} sec with relative L2-error of {:.2e} by the standard-form linear program'\n",
    "      .format(t2,rel_error2))"
   ]
  },
  {
   "cell_type": "code",
   "execution_count": 7,
   "metadata": {},
   "outputs": [
    {
     "name": "stdout",
     "output_type": "stream",
     "text": [
      "Recovery performed in 1.09 sec with relative L2-error of 1.13e-05 by the alternative linear program\n"
     ]
    }
   ],
   "source": [
    "# the alternative linear program\n",
    "t3_start = time.perf_counter()\n",
    "x3 = cp.Variable(N)\n",
    "c = cp.Variable(N)\n",
    "objective = cp.Minimize(cp.sum(c))\n",
    "constraints = [A@x3==y]\n",
    "constraints+= [c >= x3]\n",
    "constraints+= [c >= -x3]\n",
    "alternative_min = cp.Problem(objective,constraints)\n",
    "alternative_min.solve(solver='SCS')\n",
    "t3_stop = time.perf_counter()\n",
    "x3 = x3.value\n",
    "t3 = t3_stop-t3_start\n",
    "rel_error3 = LA.norm(x-x3)/LA.norm(x)\n",
    "print('Recovery performed in {:.2f} sec with relative L2-error of {:.2e} by the alternative linear program'\n",
    "      .format(t3,rel_error3))"
   ]
  },
  {
   "cell_type": "markdown",
   "metadata": {},
   "source": [
    "Readers are invited to run the above cells with a different solver to see the effect on the computation times."
   ]
  },
  {
   "cell_type": "markdown",
   "metadata": {},
   "source": [
    "## Exploration of the influence of the number of measurements"
   ]
  },
  {
   "cell_type": "code",
   "execution_count": 8,
   "metadata": {
    "scrolled": true
   },
   "outputs": [
    {
     "data": {
      "image/png": "[encoded data removed]",
      "text/plain": [
       "<Figure size 432x288 with 1 Axes>"
      ]
     },
     "metadata": {
      "needs_background": "light"
     },
     "output_type": "display_data"
    }
   ],
   "source": [
    "N = 500\n",
    "s = 20\n",
    "m_min = 2*s\n",
    "m_max = 8*s\n",
    "m_inc = 10\n",
    "n_tests = 100\n",
    "res = np.zeros( (n_tests,int((m_max-m_min)/m_inc)) )\n",
    "for m in range(m_min,m_max,m_inc):\n",
    "    for t in range(n_tests):\n",
    "        x = np.zeros(N)\n",
    "        supp = np.sort(np.random.permutation(N)[:s])\n",
    "        x[supp] = np.random.normal(0,1,s)\n",
    "        A = np.sqrt(np.pi/2)/m*np.random.normal(0,1,size=(m,N))\n",
    "        y = A@x\n",
    "        xstar = cp.Variable(N)\n",
    "        objective = cp.Minimize(cp.norm(xstar,1))\n",
    "        constraints = [A@xstar==y]\n",
    "        l1_min = cp.Problem(objective,constraints)\n",
    "        l1_min.solve(solver='SCS')\n",
    "        xstar = xstar.value\n",
    "        res[t,int((m-m_min)/m_inc)] = ( LA.norm(x-xstar) < 5e-4*LA.norm(x) )\n",
    "plt.plot(np.linspace(m_min,m_max,int((m_max-m_min)/m_inc)),100*np.mean(res,axis=0),'b-o')\n",
    "plt.xlabel('Number m of observations')\n",
    "plt.ylabel('Percentage of successful recovery')\n",
    "plt.title('L1-minimization with N=' +str(N) +' and s=' +str(s))\n",
    "plt.show()"
   ]
  }
 ],
 "metadata": {
  "kernelspec": {
   "display_name": "Python 3",
   "language": "python",
   "name": "python3"
  },
  "language_info": {
   "codemirror_mode": {
    "name": "ipython",
    "version": 3
   },
   "file_extension": ".py",
   "mimetype": "text/x-python",
   "name": "python",
   "nbconvert_exporter": "python",
   "pygments_lexer": "ipython3",
   "version": "3.8.8"
  }
 },
 "nbformat": 4,
 "nbformat_minor": 4
}
