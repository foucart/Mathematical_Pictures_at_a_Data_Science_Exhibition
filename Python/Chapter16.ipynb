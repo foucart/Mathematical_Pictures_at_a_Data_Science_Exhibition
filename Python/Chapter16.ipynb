{
 "cells": [
  {
   "cell_type": "markdown",
   "metadata": {},
   "source": [
    "# Chapter 16: Low-Rank Recovery from Linear Observations"
   ]
  },
  {
   "cell_type": "code",
   "execution_count": 1,
   "metadata": {},
   "outputs": [],
   "source": [
    "import numpy as np\n",
    "from numpy import linalg as LA\n",
    "import cvxpy as cp\n",
    "import time\n",
    "from scipy.linalg import svd"
   ]
  },
  {
   "cell_type": "code",
   "execution_count": 2,
   "metadata": {},
   "outputs": [],
   "source": [
    "# generate a rank-r matrix to be recovered from few linear observations\n",
    "n = 60                                           # size of the square matrix\n",
    "r = 3                                            # rank of the matrix\n",
    "X = np.random.randn(n,r) @ np.random.rand(r,n)\n",
    "m = 1000                                         # number of observations"
   ]
  },
  {
   "cell_type": "markdown",
   "metadata": {},
   "source": [
    "## Recovery from generic observations via nuclear-norm minimization"
   ]
  },
  {
   "cell_type": "markdown",
   "metadata": {},
   "source": [
    "Here, the observations made on the matrix $X\\in\\mathbb{R}^{n\\times n}$ take the form\n",
    "$$ y_i = \\langle A_i,X\\rangle_F = \\mathrm{tr}(A_i^\\top X), \\quad i=1,\\dots,m, $$\n",
    "where $A_i,\\dots,A_m\\in\\mathbb{R}^{n\\times n}$ are gaussian matrices."
   ]
  },
  {
   "cell_type": "code",
   "execution_count": 3,
   "metadata": {},
   "outputs": [
    {
     "name": "stdout",
     "output_type": "stream",
     "text": [
      "Recovery performed in 48.29 sec with relative Frobenius-error of 8.39e-06 using nuclear-norm minimization\n"
     ]
    }
   ],
   "source": [
    "y_gen = np.zeros(m)\n",
    "A = np.random.randn(m,n,n)\n",
    "for i in range(m):\n",
    "    y_gen[i] = np.trace(A[i].T@X)\n",
    "t_gen_start = time.perf_counter()\n",
    "M = cp.Variable((2*n,2*n),PSD=True)\n",
    "objective = cp.Minimize(cp.trace(M))\n",
    "constraints =  [cp.trace(A[i].T@ M[0:n,n:2*n]) == y_gen[i] for i in range(m)]\n",
    "gen = cp.Problem(objective,constraints)\n",
    "gen.solve(solver='SCS',eps=1e-6)\n",
    "t_gen_stop = time.perf_counter()\n",
    "t_gen = t_gen_stop - t_gen_start\n",
    "X_gen = M.value[0:n,n:2*n]\n",
    "rel_error_gen = LA.norm(X-X_gen,ord='fro')/LA.norm(X,ord='fro')\n",
    "print('Recovery performed in {:.2f} sec with relative Frobenius-error of {:.2e} using nuclear-norm minimization'\n",
    "      .format(t_gen,rel_error_gen))"
   ]
  },
  {
   "cell_type": "markdown",
   "metadata": {},
   "source": [
    "## Recovery from rank-one observations via nuclear-norm minimization"
   ]
  },
  {
   "cell_type": "markdown",
   "metadata": {},
   "source": [
    "Here, the observations made on the matrix $X\\in\\mathbb{R}^{n\\times n}$ take the form\n",
    "$$ y_i = \\langle b^{(i)},Xa^{(i)}\\rangle = \\mathrm{tr}\\big( a^{(i)}b^{(i)^\\top} X \\big), \\quad i=1,\\dots,m,$$\n",
    "where $a_1,\\dots,a_m,b_1,\\dots,b_m\\in\\mathbb{R}^n$ are gaussian vectors."
   ]
  },
  {
   "cell_type": "code",
   "execution_count": 4,
   "metadata": {},
   "outputs": [
    {
     "name": "stdout",
     "output_type": "stream",
     "text": [
      "Recovery performed in 40.11 sec with relative Frobenius-error of 9.58e-07 using nuclear-norm minimization\n"
     ]
    }
   ],
   "source": [
    "y_rk1 = np.zeros(m)\n",
    "a = np.random.randn(n,m)\n",
    "b = np.random.randn(n,m)\n",
    "for i in range(m):\n",
    "    y_rk1[i] = b[:,[i]].T@X@a[:,[i]]\n",
    "t_rk1_start = time.perf_counter()\n",
    "M = cp.Variable((2*n,2*n),PSD=True)\n",
    "objective = cp.Minimize(cp.trace(M))\n",
    "constraints = [b[:,[i]].T@M[0:n,n:2*n]@a[:,[i]] == y_rk1[i] for i in range(m)]\n",
    "rk1 = cp.Problem(objective,constraints)\n",
    "rk1.solve(solver='SCS',eps=1e-6)\n",
    "t_rk1_stop = time.perf_counter()\n",
    "t_rk1 = t_rk1_stop - t_rk1_start\n",
    "X_rk1 = M.value[0:n,n:2*n]\n",
    "rel_error_rk1 = LA.norm(X-X_rk1,ord='fro')/LA.norm(X,ord='fro')\n",
    "print('Recovery performed in {:.2f} sec with relative Frobenius-error of {:.2e} using nuclear-norm minimization'\n",
    "      .format(t_rk1, rel_error_rk1))"
   ]
  },
  {
   "cell_type": "markdown",
   "metadata": {},
   "source": [
    "## Recovery from rank-one observations via an iterative hard threholding algorithm"
   ]
  },
  {
   "cell_type": "markdown",
   "metadata": {},
   "source": [
    "The above semidefinite-programming-based recovery procedure is prohibitively slow.\n",
    "In case of rank-one observations, a faster strategy consists in iterating the following scheme:\n",
    "$$ X_{k+1} = H_r\\left(X_k + \\mu_k\\sum_{i=1}^{m}\\mathrm{sgn}(y_i - \\langle b^{(i)},X_ka^{(i)}\\rangle)b^{(i)}a^{(i)^\\top}\\right), \\quad \\mu_k = \\frac{ \\sum_{i=1}^{m}|y_i - \\langle b^{(i)},X_ka^{(i)}\\rangle| }{\\Big\\| \\sum_{i=1}^{m}\\mathrm{sgn}(y_i - \\langle b^{(i)},X_ka^{(i)}\\rangle)b^{(i)}a^{(i)^\\top} \\Big\\|_F^2} $$\n",
    "The operator $H_r$ is the \"hard thresholding operator\" that returns the best rank-r approximant, i.e., the singular value decomposition truncated at level r. \n",
    "<br>\n",
    "The theoretical justfication of this scheme's success can be found in [Foucart, Subramanian: Iterative hard thresholding for low-rank recovery from rank-one projections. Linear Algebra and its Applications, 572, 117--134, 2019]."
   ]
  },
  {
   "cell_type": "code",
   "execution_count": 5,
   "metadata": {},
   "outputs": [
    {
     "name": "stdout",
     "output_type": "stream",
     "text": [
      "Recovery performed in 0.78 sec with relative Frobenius error of 6.25e-06 by iterative hard thresholding\n"
     ]
    }
   ],
   "source": [
    "nb_iter = 500\n",
    "X_iht = np.zeros((n,n))\n",
    "t_iht_start = time.perf_counter()\n",
    "for k in range(nb_iter):\n",
    "    residual = y_rk1 - np.sum( b * (X_iht @ a), axis=0 )       # this vector has entries y_i - < b^(i),X_k a^(i) >\n",
    "    M = b @ np.diag( np.sign(residual) ) @ a.T                 # this matrix is \\sum_i residual_i b^(i) a^(i)^T\n",
    "    mu = LA.norm(residual,1) / LA.norm(M,ord='fro')**2\n",
    "    U,D,V = svd(X_iht+mu*M)\n",
    "    X_iht = U[:,:r] @ np.diag(D[:r]) @ V[:r,:]\n",
    "t_iht_stop = time.perf_counter()\n",
    "t_iht = t_iht_stop - t_iht_start\n",
    "rel_error_iht = LA.norm(X-X_iht,ord='fro') / LA.norm(X,ord='fro')\n",
    "print('Recovery performed in {:.2f} sec with relative Frobenius error of {:.2e} by iterative hard thresholding'\n",
    "      .format(t_iht, rel_error_iht))"
   ]
  }
 ],
 "metadata": {
  "kernelspec": {
   "display_name": "Python 3",
   "language": "python",
   "name": "python3"
  },
  "language_info": {
   "codemirror_mode": {
    "name": "ipython",
    "version": 3
   },
   "file_extension": ".py",
   "mimetype": "text/x-python",
   "name": "python",
   "nbconvert_exporter": "python",
   "pygments_lexer": "ipython3",
   "version": "3.8.8"
  }
 },
 "nbformat": 4,
 "nbformat_minor": 4
}
