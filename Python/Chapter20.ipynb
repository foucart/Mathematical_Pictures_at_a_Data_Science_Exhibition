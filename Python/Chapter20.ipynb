{
 "cells": [
  {
   "cell_type": "markdown",
   "metadata": {},
   "source": [
    "# Chapter 20: Snippets of Linear Programming"
   ]
  },
  {
   "cell_type": "code",
   "execution_count": 1,
   "metadata": {},
   "outputs": [],
   "source": [
    "import numpy as np\n",
    "from numpy import linalg as LA\n",
    "import cvxpy as cp"
   ]
  },
  {
   "cell_type": "markdown",
   "metadata": {},
   "source": [
    "## Inscribed circle to a polytope"
   ]
  },
  {
   "cell_type": "markdown",
   "metadata": {},
   "source": [
    "Finding the largest $\\ell_p$-ball contained in a polytope $\\mathcal{C} = \\{ x\\in\\mathbb{R}^d:\\langle a^{(1)},x\\rangle\\leq b_1,\\dots, \\langle a^{(n)},x\\rangle\\leq b_n\\}$ amounts to solving the following linear program:\n",
    "$$ \\underset{c\\in\\mathbb{R}^d,r\\in\\mathbb{R}}{\\mathrm{maximize}} \\;r \\quad \\mbox{ subject to } \\langle a^{(i)},c\\rangle + r\\|a^{(i)}\\|_q \\leq b_i, i=1,\\dots,n,$$\n",
    "where $q:=p/(p-1)\\in[1,\\infty]$ is the conjugate exponent of $p\\in[1,\\infty]$."
   ]
  },
  {
   "cell_type": "code",
   "execution_count": 2,
   "metadata": {},
   "outputs": [
    {
     "name": "stdout",
     "output_type": "stream",
     "text": [
      "In the euclidean plane, the computed inscribed radius is 0.293, which indeed equals 1/(2+sqrt(2))=0.293\n"
     ]
    }
   ],
   "source": [
    "# Example of the d-simplex, first in the euclidean plane (p=2,d=2)\n",
    "# A picture reveals that the radius of the inscribed circle is 1/(2+sqrt(2))\n",
    "d = 2                       # ambient dimension\n",
    "p = 2                       # index of the \\ell_p-norm\n",
    "q = p/(p-1)                 # conjugate index\n",
    "A = np.row_stack( (np.ones((1,d)) , -np.eye(d)) )\n",
    "b = np.row_stack( (1, np.zeros((d,1)) ) )\n",
    "row_norms = np.zeros((d+1,1))\n",
    "for i in range(d+1):\n",
    "    row_norms[i] = LA.norm(A[i,:],q)\n",
    "center = cp.Variable((d,1))\n",
    "radius = cp.Variable(1)\n",
    "objective = cp.Maximize(radius)\n",
    "constraints = [A@center + radius*row_norms <= b]\n",
    "inscribed_circle = cp.Problem(objective,constraints)\n",
    "inscribed_circle.solve()\n",
    "radius = radius.value[0]\n",
    "print('In the euclidean plane, the computed inscribed radius is {:.3f}, which indeed equals 1/(2+sqrt(2))={:.3f}'\n",
    "      .format(radius,1/(2+np.sqrt(2))))"
   ]
  },
  {
   "cell_type": "markdown",
   "metadata": {},
   "source": [
    "When $\\mathcal{C}$ is the d-simplex, it is possible to guess a formula providing the value of the radius of the inscribed $\\ell_p$-ball as a function of $d$ and $p$."
   ]
  },
  {
   "cell_type": "code",
   "execution_count": 3,
   "metadata": {},
   "outputs": [
    {
     "name": "stdout",
     "output_type": "stream",
     "text": [
      "\n",
      "For p=1, the radius of the inscribed radii when d goes from 1 to 10 are:\n",
      "[0.5    0.3333 0.25   0.2    0.1667 0.1429 0.125  0.1111 0.1    0.0909]\n",
      "\n",
      "For p=2, the radius of the inscribed radii when d goes from 1 to 10 are:\n",
      "[0.5    0.2929 0.2113 0.1667 0.1382 0.1184 0.1037 0.0923 0.0833 0.076 ]\n",
      "\n",
      "For p=inf, the radius of the inscribed radii when d goes from 1 to 10 are:\n",
      "[0.5    0.25   0.1667 0.125  0.1    0.0833 0.0714 0.0625 0.0556 0.05  ]\n"
     ]
    }
   ],
   "source": [
    "## Compute the values of the inscribed radius as a function of d when p=2, p=Inf, and p=1\n",
    "d_max = 10\n",
    "P = [1,2,np.inf]\n",
    "Q = [np.inf,2,1]\n",
    "for k in range(3):\n",
    "    p = P[k]\n",
    "    q = Q[k]\n",
    "    radius = np.zeros(d_max)\n",
    "    for d in range(1,d_max+1):\n",
    "        A = np.row_stack( (np.ones((1,d)) , -np.eye(d)) )\n",
    "        b = np.row_stack( (1, np.zeros((d,1)) ) )\n",
    "        row_norms = np.zeros((d+1,1))\n",
    "        for i in range(d+1):\n",
    "            row_norms[i] = LA.norm(A[i,:],q)\n",
    "        c = cp.Variable((d,1))\n",
    "        r = cp.Variable(1)\n",
    "        objective = cp.Maximize(r)\n",
    "        constraints = [A@c + r*row_norms <= b]\n",
    "        inscribed_circle = cp.Problem(objective,constraints)\n",
    "        inscribed_circle.solve()\n",
    "        radius[d-1] = r.value[0]\n",
    "    print('\\nFor p={}, the radius of the inscribed radii when d goes from 1 to {} are:\\n{}'\n",
    "          .format(p,d_max,np.round(radius,4)))"
   ]
  },
  {
   "cell_type": "markdown",
   "metadata": {},
   "source": [
    "These values strongly suggest the formula:\n",
    "$$ \\mbox{ radius of inscribed }\\ell_p\\mbox{-ball to the }d\\mbox{-simplex }= \\frac{1}{d^{1-1/p}(d^{1/p}+1)} = \\frac{1}{d+d^{1/q}}, $$\n",
    "which can be verified on a further example out of the previous range."
   ]
  },
  {
   "cell_type": "code",
   "execution_count": 4,
   "metadata": {},
   "outputs": [
    {
     "name": "stdout",
     "output_type": "stream",
     "text": [
      "The computed inscribed radius is 0.048, which indeed equals 1/(d+d^{1/q})=0.048\n"
     ]
    }
   ],
   "source": [
    "d = 13\n",
    "p = 5\n",
    "q = p/(p-1)\n",
    "A = np.row_stack( (np.ones((1,d)) , -np.eye(d)) )\n",
    "b = np.row_stack( (1, np.zeros((d,1)) ) )\n",
    "row_norms = np.zeros((d+1,1))\n",
    "for i in range(d+1):\n",
    "    row_norms[i] = LA.norm(A[i,:],q)\n",
    "center = cp.Variable((d,1))\n",
    "radius = cp.Variable(1)\n",
    "objective = cp.Maximize(radius)\n",
    "constraints = [A@center + radius*row_norms <= b]\n",
    "inscribed_circle = cp.Problem(objective,constraints)\n",
    "inscribed_circle.solve()\n",
    "radius = radius.value[0]\n",
    "print('The computed inscribed radius is {:.3f}, which indeed equals 1/(d+d^{{1/q}})={:.3f}'\n",
    "      .format(radius,1/(d+d**(1/q))))"
   ]
  },
  {
   "cell_type": "markdown",
   "metadata": {},
   "source": [
    "## Proximity between two polytopes"
   ]
  },
  {
   "cell_type": "markdown",
   "metadata": {},
   "source": [
    "Finding the \"proximity\", relatively to the $\\ell_\\infty$-norm, between the polytopes $\\mathcal{C}=\\{ x\\in\\mathbb{R}^d: Ax\\leq b\\}$ and $\\mathcal{C}'=\\{ x\\in\\mathbb{R}^d: A'x\\leq b'\\}$ amounts to solving the following linear program program\n",
    "$$ \\underset{x,x'\\in\\mathbb{R}^d,c\\in\\mathbb{R}}{\\mathrm{minimize}} \\;c \\quad \\mbox{subject to } Ax\\leq b, A'x'\\leq b', -c\\leq x-x'\\leq c.$$"
   ]
  },
  {
   "cell_type": "code",
   "execution_count": 5,
   "metadata": {},
   "outputs": [
    {
     "name": "stdout",
     "output_type": "stream",
     "text": [
      "proxy=1.8908e-02\n"
     ]
    }
   ],
   "source": [
    "# Example of the d-simplex and a shifted version of it\n",
    "d = 13\n",
    "A = np.row_stack( (np.ones((1,d)), -np.eye(d)) )\n",
    "b = np.row_stack( (1, np.zeros((d,1))) )\n",
    "shift = 2*np.random.rand(d,1)/d\n",
    "AA = A\n",
    "bb = b + A@shift\n",
    "x = cp.Variable((d,1))\n",
    "xx = cp.Variable((d,1))\n",
    "c = cp.Variable(1)\n",
    "objective = cp.Minimize(c)\n",
    "constraints = [ A@x <= b]\n",
    "constraints+= [ AA@xx <= bb]\n",
    "constraints+= [ x-xx <= c]\n",
    "constraints+= [ xx-x <= c]\n",
    "proximity = cp.Problem(objective,constraints)\n",
    "proximity.solve()\n",
    "proxy = c.value[0]\n",
    "print('proxy={:.4e}'.format(proxy))"
   ]
  },
  {
   "cell_type": "markdown",
   "metadata": {},
   "source": [
    "When $\\mathcal{C}$ is the $d$-simplex and $\\mathcal{C}'$ is the shifted version $\\mathcal{C}' = s+\\mathcal{C}$ with $s=t[1;\\dots;1]$ for $t>0$, experiments would reveal that the \"proximity\" between $\\mathcal{C}$ and $\\mathcal{C}'$ is $\\max\\{t-1/d,0\\}$, as confirmed by the following test. "
   ]
  },
  {
   "cell_type": "code",
   "execution_count": 6,
   "metadata": {},
   "outputs": [
    {
     "name": "stdout",
     "output_type": "stream",
     "text": [
      "The computed \"proximity\" is 0.003, which indeed equals max{t-1,0}/d=0.003\n"
     ]
    }
   ],
   "source": [
    "d = np.random.randint(50)\n",
    "t = (1/2+np.random.random()*3/2)/d\n",
    "A = np.row_stack( (np.ones((1,d)), -np.eye(d)) )\n",
    "b = np.row_stack( (1, np.zeros((d,1))) )\n",
    "shift = t*np.ones((d,1))\n",
    "AA = A\n",
    "bb = b + A@shift\n",
    "x = cp.Variable((d,1))\n",
    "xx = cp.Variable((d,1))\n",
    "c = cp.Variable(1)\n",
    "objective = cp.Minimize(c)\n",
    "constraints = [ A@x <= b]\n",
    "constraints+= [ AA@xx <= bb]\n",
    "constraints+= [ x-xx <= c]\n",
    "constraints+= [ xx-x <= c]\n",
    "proximity = cp.Problem(objective,constraints)\n",
    "proximity.solve()\n",
    "proxy = c.value[0]\n",
    "print('The computed \"proximity\" is {:.3f}, which indeed equals max{{t-1,0}}/d={:.3f}'.format(proxy,max(t-1/d,0)))"
   ]
  },
  {
   "cell_type": "markdown",
   "metadata": {},
   "source": [
    "## Hausdorff distance between two bounded polytopes"
   ]
  },
  {
   "cell_type": "markdown",
   "metadata": {},
   "source": [
    "Finding the Hausdorff distance, relatively to the $\\ell_1$-norm, between the polytopes $\\mathcal{C} = \\{ x\\in\\mathbb{R}^d:Ax\\leq b\\}$ and  $\\mathcal{C}' = \\{ x\\in\\mathbb{R}^d:A'x\\leq b'\\}$ amounts to solving $K+K'$ linear programs, where $K$ and $K'$ are the numbers of vertices of $\\mathcal{C}$ and of $\\mathcal{C}'$, respectively. Denoting these vertices by $v_1,\\dots,v_k$ and $v'_1,\\dots,v'_{K'}$, the linear programs are:\n",
    "$$ \\underset{x',c\\in\\mathbb{R}^d}{\\mathrm{minimize}} \\; \\sum_{j=1}^d c_j \\mbox{ subject to } A'x'\\leq b', -c\\leq v_k-x'\\leq c; $$\n",
    "$$ \\underset{x,c\\in\\mathbb{R}^d}{\\mathrm{minimize}} \\; \\sum_{j=1}^d c_j \\mbox{ subject to } Ax\\leq b, -c\\leq v'_k-x\\leq c. $$"
   ]
  },
  {
   "cell_type": "code",
   "execution_count": 7,
   "metadata": {},
   "outputs": [
    {
     "name": "stdout",
     "output_type": "stream",
     "text": [
      "Haus_dist=1.0619\n"
     ]
    }
   ],
   "source": [
    "# Example of the d-simplex and a shifted version of it\n",
    "d = 13\n",
    "A = np.row_stack( (np.ones((1,d)), -np.eye(d)) )\n",
    "b = np.row_stack( (1, np.zeros((d,1))) )\n",
    "V = np.column_stack( (np.zeros((d,1)), np.eye(d)) )    #the columns of V are vertices of the simplex\n",
    "shift = 2*np.random.rand(d,1)/d\n",
    "AA = A\n",
    "bb = b + A@shift\n",
    "VV = shift + V                                         #the columns of VV are vertices of the shifted simplex\n",
    "left_terms = np.zeros(d+1)\n",
    "right_terms = np.zeros(d+1)\n",
    "for k in range(d+1):\n",
    "    xx = cp.Variable((d,1))\n",
    "    c = cp.Variable((d,1))\n",
    "    objective = cp.Minimize(cp.sum(c))\n",
    "    constraints = [ AA@xx <= bb ]\n",
    "    constraints+= [ V[:,[k]]-xx <= c]\n",
    "    constraints+= [ xx-V[:,[k]] <= c]\n",
    "    first_linear = cp.Problem(objective,constraints)\n",
    "    first_linear.solve()\n",
    "    left_terms[k] = first_linear.value\n",
    "    x = cp.Variable((d,1))\n",
    "    c = cp.Variable((d,1))\n",
    "    objective = cp.Minimize(cp.sum(c))\n",
    "    constraints = [ A@x <= b ]\n",
    "    constraints+= [ VV[:,[k]]-x <= c]\n",
    "    constraints+= [ x-VV[:,[k]] <= c]\n",
    "    second_linear = cp.Problem(objective,constraints)\n",
    "    second_linear.solve()\n",
    "    right_terms[k] = second_linear.value\n",
    "Haus_dist = max(max(left_terms),max(right_terms))  \n",
    "print('Haus_dist={:.4f}'.format(Haus_dist))"
   ]
  },
  {
   "cell_type": "markdown",
   "metadata": {},
   "source": [
    "When $\\mathcal{C}$ is the $d$-simplex and $\\mathcal{C}'$ is the shifted version $\\mathcal{C}' = s+\\mathcal{C}$ with $s=t[1;\\dots;1]$ for $t>0$, experiments would reveal that the Hausdorff distance between $\\mathcal{C}$ and $\\mathcal{C}'$ is $d$ $t$, as confirmed by the following test."
   ]
  },
  {
   "cell_type": "code",
   "execution_count": 8,
   "metadata": {},
   "outputs": [
    {
     "name": "stdout",
     "output_type": "stream",
     "text": [
      "The computed Hausdorff distance is 3.707, which indeed equals dt=3.707\n"
     ]
    }
   ],
   "source": [
    "d = np.random.randint(15)\n",
    "t = np.random.random()\n",
    "A = np.row_stack( (np.ones((1,d)), -np.eye(d)) )\n",
    "b = np.row_stack( (1, np.zeros((d,1))) )\n",
    "V = np.column_stack( (np.zeros((d,1)), np.eye(d)) )    #the columns of V are vertices of the simplex\n",
    "shift = t*np.ones((d,1))\n",
    "AA = A\n",
    "bb = b + A@shift\n",
    "VV = shift + V                                         #the columns of VV are vertices of the shifted simplex\n",
    "left_terms = np.zeros(d+1)\n",
    "right_terms = np.zeros(d+1)\n",
    "for k in range(d+1):\n",
    "    xx = cp.Variable((d,1))\n",
    "    c = cp.Variable((d,1))\n",
    "    objective = cp.Minimize(cp.sum(c))\n",
    "    constraints = [ AA@xx <= bb ]\n",
    "    constraints+= [ V[:,[k]]-xx <= c]\n",
    "    constraints+= [ xx-V[:,[k]] <= c]\n",
    "    first_linear = cp.Problem(objective,constraints)\n",
    "    first_linear.solve()\n",
    "    left_terms[k] = first_linear.value\n",
    "    x = cp.Variable((d,1))\n",
    "    c = cp.Variable((d,1))\n",
    "    objective = cp.Minimize(cp.sum(c))\n",
    "    constraints = [ A@x <= b ]\n",
    "    constraints+= [ VV[:,[k]]-x <= c]\n",
    "    constraints+= [ x-VV[:,[k]] <= c]\n",
    "    second_linear = cp.Problem(objective,constraints)\n",
    "    second_linear.solve()\n",
    "    right_terms[k] = second_linear.value\n",
    "Haus_dist = max(max(left_terms),max(right_terms))  \n",
    "print('The computed Hausdorff distance is {:.3f}, which indeed equals dt={:.3f}'.format(Haus_dist,d*t))"
   ]
  }
 ],
 "metadata": {
  "kernelspec": {
   "display_name": "Python 3",
   "language": "python",
   "name": "python3"
  },
  "language_info": {
   "codemirror_mode": {
    "name": "ipython",
    "version": 3
   },
   "file_extension": ".py",
   "mimetype": "text/x-python",
   "name": "python",
   "nbconvert_exporter": "python",
   "pygments_lexer": "ipython3",
   "version": "3.8.8"
  }
 },
 "nbformat": 4,
 "nbformat_minor": 4
}
